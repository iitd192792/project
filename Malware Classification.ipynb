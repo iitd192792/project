{
 "cells": [
  {
   "cell_type": "markdown",
   "metadata": {},
   "source": [
    "<h3> Malware Classification Using Ember features and Feed Forward Neural Network </h3>"
   ]
  },
  {
   "cell_type": "markdown",
   "metadata": {},
   "source": [
    "\n",
    "<h4> used a  simple 3-layer feed-forward network with dropout and batch-norm. </h4>\n",
    "<h5> At the end it can be seen that the training accuracy is 99% and validation accuracy is 92% , and testing accuracy is 92%\n",
    "    The model is converging in the inital 5 epochs itself. since a malware sample can belongs to multiple classes at the same time. and the label with max probability is considered as true label.the validation and test accuracy around 92% is still good.\n",
    "    I belive that if we consider top 3 labels then the accuracy can be much improved. </h5>\n",
    "    \n",
    "<h5> the corressponding confusion matrix and classification reports and plots can be seen at the end. </h5>\n",
    "<h6> the architecure implemented here is very simple and more similar to the one in this link: \n",
    "    https://towardsdatascience.com/pytorch-tabular-multiclass-classification-9f8211a123ab</h6>"
   ]
  },
  {
   "cell_type": "code",
   "execution_count": 1,
   "metadata": {},
   "outputs": [],
   "source": [
    "import numpy as np\n",
    "import pandas as pd\n",
    "import seaborn as sns\n",
    "from tqdm.notebook import tqdm\n",
    "import matplotlib.pyplot as plt\n",
    "import os\n",
    "import torch\n",
    "import torch.nn as nn\n",
    "import torch.optim as optim\n",
    "from torch.utils.data import Dataset, DataLoader, WeightedRandomSampler\n",
    "\n",
    "from sklearn.preprocessing import MinMaxScaler    \n",
    "from sklearn.model_selection import train_test_split\n",
    "from sklearn.metrics import confusion_matrix, classification_report,accuracy_score"
   ]
  },
  {
   "cell_type": "code",
   "execution_count": 2,
   "metadata": {},
   "outputs": [
    {
     "data": {
      "text/plain": [
       "((104746, 2381), (104746, 13))"
      ]
     },
     "execution_count": 2,
     "metadata": {},
     "output_type": "execute_result"
    }
   ],
   "source": [
    "sorel_dir = '../Dataset/sorel'\n",
    "data = np.load(os.path.join(sorel_dir,'sorel_data.npz'),allow_pickle=True)\n",
    "data['arr_0'].shape,data['arr_1'].shape"
   ]
  },
  {
   "cell_type": "code",
   "execution_count": 3,
   "metadata": {},
   "outputs": [
    {
     "data": {
      "image/png": "[encoded data removed]",
      "text/plain": [
       "<Figure size 432x288 with 1 Axes>"
      ]
     },
     "metadata": {
      "needs_background": "light"
     },
     "output_type": "display_data"
    }
   ],
   "source": [
    "df = pd.DataFrame(data=data['arr_1'][:,-1], columns=[\"label\"])\n",
    "sns.countplot(x = 'label', data=df);"
   ]
  },
  {
   "cell_type": "code",
   "execution_count": 4,
   "metadata": {},
   "outputs": [],
   "source": [
    "# Split into train+val and test\n",
    "X_trainval, X_test, y_trainval, y_test = train_test_split(data['arr_0'], data['arr_1'][:,-1], test_size=0.2, stratify=data['arr_1'][:,-1], random_state=69)\n",
    "\n",
    "# Split train into train-val\n",
    "X_train, X_val, y_train, y_val = train_test_split(X_trainval, y_trainval, test_size=0.1, stratify=y_trainval, random_state=21)"
   ]
  },
  {
   "cell_type": "code",
   "execution_count": 5,
   "metadata": {},
   "outputs": [],
   "source": [
    "scaler = MinMaxScaler()\n",
    "X_train = scaler.fit_transform(X_train)\n",
    "X_val = scaler.transform(X_val)\n",
    "X_test = scaler.transform(X_test)\n",
    "X_train, y_train = np.array(X_train), np.array(y_train)\n",
    "X_val, y_val = np.array(X_val), np.array(y_val)\n",
    "X_test, y_test = np.array(X_test), np.array(y_test)"
   ]
  },
  {
   "cell_type": "code",
   "execution_count": 7,
   "metadata": {},
   "outputs": [],
   "source": [
    "\n",
    "class ClassifierDataset(Dataset):    \n",
    "    def __init__(self, X_data, y_data):\n",
    "        self.X_data = X_data\n",
    "        self.y_data = y_data        \n",
    "    def __getitem__(self, index):\n",
    "        return self.X_data[index], self.y_data[index]        \n",
    "    def __len__ (self):\n",
    "        return len(self.X_data)\n",
    "\n",
    "class MulticlassClassification(nn.Module):\n",
    "    def __init__(self, num_feature, num_class):\n",
    "        super(MulticlassClassification, self).__init__()\n",
    "        \n",
    "        self.layer_1 = nn.Linear(num_feature, 512)\n",
    "        self.layer_2 = nn.Linear(512, 128)\n",
    "        self.layer_3 = nn.Linear(128, 64)\n",
    "        self.layer_out = nn.Linear(64, num_class) \n",
    "        \n",
    "        self.relu = nn.ReLU()\n",
    "        self.dropout = nn.Dropout(p=0.2)\n",
    "        self.batchnorm1 = nn.BatchNorm1d(512)\n",
    "        self.batchnorm2 = nn.BatchNorm1d(128)\n",
    "        self.batchnorm3 = nn.BatchNorm1d(64)\n",
    "        \n",
    "    def forward(self, x):\n",
    "        x = self.layer_1(x)\n",
    "        x = self.batchnorm1(x)\n",
    "        x = self.relu(x)\n",
    "        \n",
    "        x = self.layer_2(x)\n",
    "        x = self.batchnorm2(x)\n",
    "        x = self.relu(x)\n",
    "        x = self.dropout(x)\n",
    "        \n",
    "        x = self.layer_3(x)\n",
    "        x = self.batchnorm3(x)\n",
    "        x = self.relu(x)\n",
    "        x = self.dropout(x)\n",
    "        \n",
    "        x = self.layer_out(x)\n",
    "        \n",
    "        return x\n"
   ]
  },
  {
   "cell_type": "code",
   "execution_count": 8,
   "metadata": {},
   "outputs": [
    {
     "name": "stdout",
     "output_type": "stream",
     "text": [
      "tensor([0.0002, 0.0001, 0.0001, 0.0001, 0.0001, 0.0002, 0.0001, 0.0001, 0.0001,\n",
      "        0.0001, 0.0001])\n"
     ]
    }
   ],
   "source": [
    "device = torch.device(\"cuda:0\" if torch.cuda.is_available() else \"cpu\")\n",
    "values,counts = np.unique(y_train,return_counts=True)\n",
    "class_weights = 1./torch.tensor(counts, dtype=torch.float) \n",
    "print(class_weights)\n"
   ]
  },
  {
   "cell_type": "code",
   "execution_count": 9,
   "metadata": {},
   "outputs": [],
   "source": [
    "EPOCHS = 50\n",
    "BATCH_SIZE = 16\n",
    "LEARNING_RATE = 0.0007\n",
    "NUM_FEATURES = 2381\n",
    "NUM_CLASSES =  11"
   ]
  },
  {
   "cell_type": "code",
   "execution_count": 10,
   "metadata": {},
   "outputs": [],
   "source": [
    "train_dataset = ClassifierDataset(torch.from_numpy(X_train).float(), torch.from_numpy(y_train.astype('float64')).long())\n",
    "val_dataset = ClassifierDataset(torch.from_numpy(X_val).float(), torch.from_numpy(y_val.astype('float64')).long())\n",
    "test_dataset = ClassifierDataset(torch.from_numpy(X_test).float(), torch.from_numpy(y_test.astype('float64')).long())\n",
    "train_loader = DataLoader(dataset=train_dataset,\n",
    "                          batch_size=BATCH_SIZE,\n",
    ")\n",
    "val_loader = DataLoader(dataset=val_dataset, batch_size=1)\n",
    "test_loader = DataLoader(dataset=test_dataset, batch_size=1)\n",
    "\n"
   ]
  },
  {
   "cell_type": "code",
   "execution_count": 31,
   "metadata": {},
   "outputs": [
    {
     "data": {
      "text/plain": [
       "MulticlassClassification(\n",
       "  (layer_1): Linear(in_features=2381, out_features=512, bias=True)\n",
       "  (layer_2): Linear(in_features=512, out_features=128, bias=True)\n",
       "  (layer_3): Linear(in_features=128, out_features=64, bias=True)\n",
       "  (layer_out): Linear(in_features=64, out_features=11, bias=True)\n",
       "  (relu): ReLU()\n",
       "  (dropout): Dropout(p=0.2)\n",
       "  (batchnorm1): BatchNorm1d(512, eps=1e-05, momentum=0.1, affine=True, track_running_stats=True)\n",
       "  (batchnorm2): BatchNorm1d(128, eps=1e-05, momentum=0.1, affine=True, track_running_stats=True)\n",
       "  (batchnorm3): BatchNorm1d(64, eps=1e-05, momentum=0.1, affine=True, track_running_stats=True)\n",
       ")"
      ]
     },
     "execution_count": 31,
     "metadata": {},
     "output_type": "execute_result"
    }
   ],
   "source": [
    "model = MulticlassClassification(num_feature = NUM_FEATURES, num_class=NUM_CLASSES)\n",
    "model.load_state_dict(torch.load(os.path.join(sorel_dir,'classification.pth')))\n",
    "model.eval()\n",
    "model.to(device)"
   ]
  },
  {
   "cell_type": "code",
   "execution_count": 14,
   "metadata": {},
   "outputs": [
    {
     "name": "stdout",
     "output_type": "stream",
     "text": [
      "MulticlassClassification(\n",
      "  (layer_1): Linear(in_features=2381, out_features=512, bias=True)\n",
      "  (layer_2): Linear(in_features=512, out_features=128, bias=True)\n",
      "  (layer_3): Linear(in_features=128, out_features=64, bias=True)\n",
      "  (layer_out): Linear(in_features=64, out_features=11, bias=True)\n",
      "  (relu): ReLU()\n",
      "  (dropout): Dropout(p=0.2)\n",
      "  (batchnorm1): BatchNorm1d(512, eps=1e-05, momentum=0.1, affine=True, track_running_stats=True)\n",
      "  (batchnorm2): BatchNorm1d(128, eps=1e-05, momentum=0.1, affine=True, track_running_stats=True)\n",
      "  (batchnorm3): BatchNorm1d(64, eps=1e-05, momentum=0.1, affine=True, track_running_stats=True)\n",
      ")\n"
     ]
    }
   ],
   "source": [
    "model = MulticlassClassification(num_feature = NUM_FEATURES, num_class=NUM_CLASSES)\n",
    "model.to(device)\n",
    "\n",
    "criterion = nn.CrossEntropyLoss(weight=class_weights.to(device))\n",
    "optimizer = optim.Adam(model.parameters(), lr=LEARNING_RATE)\n",
    "print(model)"
   ]
  },
  {
   "cell_type": "code",
   "execution_count": 11,
   "metadata": {},
   "outputs": [],
   "source": [
    "def multi_acc(y_pred, y_test):\n",
    "    y_pred_softmax = torch.log_softmax(y_pred, dim = 1)\n",
    "    _, y_pred_tags = torch.max(y_pred_softmax, dim = 1)    \n",
    "    \n",
    "    correct_pred = (y_pred_tags == y_test).float()\n",
    "    acc = correct_pred.sum() / len(correct_pred)\n",
    "    \n",
    "    acc = torch.round(acc * 100)\n",
    "    \n",
    "    return (acc)"
   ]
  },
  {
   "cell_type": "code",
   "execution_count": 12,
   "metadata": {},
   "outputs": [],
   "source": [
    "accuracy_stats = {\n",
    "    'train': [],\n",
    "    \"val\": []\n",
    "}\n",
    "loss_stats = {\n",
    "    'train': [],\n",
    "    \"val\": []\n",
    "}"
   ]
  },
  {
   "cell_type": "code",
   "execution_count": 15,
   "metadata": {},
   "outputs": [
    {
     "data": {
      "application/vnd.jupyter.widget-view+json": {
       "model_id": "bf2b89165cf0483595f538614b26a970",
       "version_major": 2,
       "version_minor": 0
      },
      "text/plain": [
       "HBox(children=(HTML(value=''), FloatProgress(value=0.0, max=50.0), HTML(value='')))"
      ]
     },
     "metadata": {},
     "output_type": "display_data"
    },
    {
     "name": "stdout",
     "output_type": "stream",
     "text": [
      "Epoch 001: | Train Loss: 0.41790 | Val Loss: 0.22116 | Train Acc: 88.328| Val Acc: 92.053\n",
      "Epoch 002: | Train Loss: 0.23859 | Val Loss: 0.20268 | Train Acc: 92.360| Val Acc: 92.876\n",
      "Epoch 003: | Train Loss: 0.19627 | Val Loss: 0.20098 | Train Acc: 93.507| Val Acc: 92.924\n",
      "Epoch 004: | Train Loss: 0.16484 | Val Loss: 0.19252 | Train Acc: 94.409| Val Acc: 93.413\n",
      "Epoch 005: | Train Loss: 0.14514 | Val Loss: 0.18975 | Train Acc: 94.925| Val Acc: 93.484\n",
      "Epoch 006: | Train Loss: 0.12980 | Val Loss: 0.18957 | Train Acc: 95.459| Val Acc: 93.974\n",
      "Epoch 007: | Train Loss: 0.11753 | Val Loss: 0.19869 | Train Acc: 95.746| Val Acc: 94.081\n",
      "Epoch 008: | Train Loss: 0.10754 | Val Loss: 0.20689 | Train Acc: 96.138| Val Acc: 93.890\n",
      "Epoch 009: | Train Loss: 0.10033 | Val Loss: 0.20554 | Train Acc: 96.235| Val Acc: 94.368\n",
      "Epoch 010: | Train Loss: 0.09180 | Val Loss: 0.22072 | Train Acc: 96.574| Val Acc: 93.950\n",
      "Epoch 011: | Train Loss: 0.08742 | Val Loss: 0.22180 | Train Acc: 96.726| Val Acc: 94.069\n",
      "Epoch 012: | Train Loss: 0.08105 | Val Loss: 0.21773 | Train Acc: 96.926| Val Acc: 94.308\n",
      "Epoch 013: | Train Loss: 0.07668 | Val Loss: 0.23866 | Train Acc: 97.096| Val Acc: 94.021\n",
      "Epoch 014: | Train Loss: 0.07139 | Val Loss: 0.25575 | Train Acc: 97.274| Val Acc: 94.165\n",
      "Epoch 015: | Train Loss: 0.06980 | Val Loss: 0.24474 | Train Acc: 97.323| Val Acc: 94.332\n",
      "Epoch 016: | Train Loss: 0.06365 | Val Loss: 0.25575 | Train Acc: 97.488| Val Acc: 94.189\n",
      "Epoch 017: | Train Loss: 0.06236 | Val Loss: 0.26237 | Train Acc: 97.572| Val Acc: 94.117\n",
      "Epoch 018: | Train Loss: 0.05824 | Val Loss: 0.26963 | Train Acc: 97.734| Val Acc: 94.224\n",
      "Epoch 019: | Train Loss: 0.05700 | Val Loss: 0.27907 | Train Acc: 97.832| Val Acc: 93.902\n",
      "Epoch 020: | Train Loss: 0.05291 | Val Loss: 0.27230 | Train Acc: 97.986| Val Acc: 94.177\n",
      "Epoch 021: | Train Loss: 0.05105 | Val Loss: 0.26992 | Train Acc: 98.056| Val Acc: 94.344\n",
      "Epoch 022: | Train Loss: 0.04678 | Val Loss: 0.30489 | Train Acc: 98.168| Val Acc: 94.272\n",
      "Epoch 023: | Train Loss: 0.04538 | Val Loss: 0.29419 | Train Acc: 98.282| Val Acc: 94.379\n",
      "Epoch 024: | Train Loss: 0.04311 | Val Loss: 0.28303 | Train Acc: 98.388| Val Acc: 94.284\n",
      "Epoch 025: | Train Loss: 0.04053 | Val Loss: 0.32409 | Train Acc: 98.454| Val Acc: 94.558\n",
      "Epoch 026: | Train Loss: 0.03950 | Val Loss: 0.29567 | Train Acc: 98.534| Val Acc: 94.463\n",
      "Epoch 027: | Train Loss: 0.03631 | Val Loss: 0.33275 | Train Acc: 98.645| Val Acc: 93.735\n",
      "Epoch 028: | Train Loss: 0.03532 | Val Loss: 0.34068 | Train Acc: 98.706| Val Acc: 94.248\n",
      "Epoch 029: | Train Loss: 0.03483 | Val Loss: 0.30766 | Train Acc: 98.741| Val Acc: 94.379\n",
      "Epoch 030: | Train Loss: 0.03177 | Val Loss: 0.30858 | Train Acc: 98.842| Val Acc: 94.714\n",
      "Epoch 031: | Train Loss: 0.03059 | Val Loss: 0.33766 | Train Acc: 98.922| Val Acc: 94.177\n",
      "Epoch 032: | Train Loss: 0.02927 | Val Loss: 0.32903 | Train Acc: 98.989| Val Acc: 94.153\n",
      "Epoch 033: | Train Loss: 0.02803 | Val Loss: 0.33556 | Train Acc: 98.991| Val Acc: 94.379\n",
      "Epoch 034: | Train Loss: 0.02742 | Val Loss: 0.32791 | Train Acc: 99.058| Val Acc: 94.153\n",
      "Epoch 035: | Train Loss: 0.02613 | Val Loss: 0.30905 | Train Acc: 99.147| Val Acc: 94.666\n",
      "Epoch 036: | Train Loss: 0.02455 | Val Loss: 0.33800 | Train Acc: 99.123| Val Acc: 94.200\n",
      "Epoch 037: | Train Loss: 0.02455 | Val Loss: 0.33508 | Train Acc: 99.163| Val Acc: 94.511\n",
      "Epoch 038: | Train Loss: 0.02352 | Val Loss: 0.34711 | Train Acc: 99.238| Val Acc: 94.391\n",
      "Epoch 039: | Train Loss: 0.02235 | Val Loss: 0.34183 | Train Acc: 99.260| Val Acc: 94.320\n",
      "Epoch 040: | Train Loss: 0.02218 | Val Loss: 0.33779 | Train Acc: 99.251| Val Acc: 94.332\n",
      "Epoch 041: | Train Loss: 0.02232 | Val Loss: 0.36364 | Train Acc: 99.278| Val Acc: 94.356\n",
      "Epoch 042: | Train Loss: 0.02118 | Val Loss: 0.35037 | Train Acc: 99.327| Val Acc: 94.368\n",
      "Epoch 043: | Train Loss: 0.01996 | Val Loss: 0.34793 | Train Acc: 99.352| Val Acc: 94.678\n",
      "Epoch 044: | Train Loss: 0.01811 | Val Loss: 0.35122 | Train Acc: 99.388| Val Acc: 94.785\n",
      "Epoch 045: | Train Loss: 0.01849 | Val Loss: 0.35650 | Train Acc: 99.408| Val Acc: 94.379\n",
      "Epoch 046: | Train Loss: 0.01829 | Val Loss: 0.39512 | Train Acc: 99.383| Val Acc: 94.308\n",
      "Epoch 047: | Train Loss: 0.01701 | Val Loss: 0.40093 | Train Acc: 99.423| Val Acc: 93.699\n",
      "Epoch 048: | Train Loss: 0.01763 | Val Loss: 0.34270 | Train Acc: 99.420| Val Acc: 94.499\n",
      "Epoch 049: | Train Loss: 0.01704 | Val Loss: 0.34712 | Train Acc: 99.445| Val Acc: 94.523\n",
      "Epoch 050: | Train Loss: 0.01658 | Val Loss: 0.42581 | Train Acc: 99.480| Val Acc: 94.177\n",
      "\n"
     ]
    }
   ],
   "source": [
    "\n",
    "for e in tqdm(range(1, EPOCHS+1)):\n",
    "    \n",
    "    # TRAINING\n",
    "    train_epoch_loss = 0\n",
    "    train_epoch_acc = 0\n",
    "    model.train()\n",
    "    for X_train_batch, y_train_batch in train_loader:\n",
    "        X_train_batch, y_train_batch = X_train_batch.to(device), y_train_batch.to(device)\n",
    "        optimizer.zero_grad()\n",
    "        \n",
    "        y_train_pred = model(X_train_batch)\n",
    "        \n",
    "        train_loss = criterion(y_train_pred, y_train_batch)\n",
    "        train_acc =  multi_acc(y_train_pred, y_train_batch)\n",
    "        \n",
    "        train_loss.backward()\n",
    "        optimizer.step()\n",
    "        \n",
    "        train_epoch_loss += train_loss.item()\n",
    "        train_epoch_acc += train_acc.item()\n",
    "        \n",
    "        \n",
    "    # VALIDATION    \n",
    "    with torch.no_grad():\n",
    "        \n",
    "        val_epoch_loss = 0\n",
    "        val_epoch_acc = 0\n",
    "        \n",
    "        model.eval()\n",
    "        for X_val_batch, y_val_batch in val_loader:\n",
    "            X_val_batch, y_val_batch = X_val_batch.to(device), y_val_batch.to(device)\n",
    "            \n",
    "            y_val_pred = model(X_val_batch)\n",
    "                        \n",
    "            val_loss = criterion(y_val_pred, y_val_batch)\n",
    "            val_acc = multi_acc(y_val_pred, y_val_batch)\n",
    "            \n",
    "            val_epoch_loss += val_loss.item()\n",
    "            val_epoch_acc += val_acc.item()\n",
    "    loss_stats['train'].append(train_epoch_loss/len(train_loader))\n",
    "    loss_stats['val'].append(val_epoch_loss/len(val_loader))\n",
    "    accuracy_stats['train'].append(train_epoch_acc/len(train_loader))\n",
    "    accuracy_stats['val'].append(val_epoch_acc/len(val_loader))\n",
    "                              \n",
    "    \n",
    "    print(f'Epoch {e+0:03}: | Train Loss: {train_epoch_loss/len(train_loader):.5f} | Val Loss: {val_epoch_loss/len(val_loader):.5f} | Train Acc: {train_epoch_acc/len(train_loader):.3f}| Val Acc: {val_epoch_acc/len(val_loader):.3f}')\n"
   ]
  },
  {
   "cell_type": "code",
   "execution_count": 26,
   "metadata": {},
   "outputs": [],
   "source": [
    "torch.save(model.state_dict(), os.path.join(sorel_dir,'classification.pth'))"
   ]
  },
  {
   "cell_type": "code",
   "execution_count": 28,
   "metadata": {},
   "outputs": [
    {
     "data": {
      "text/plain": [
       "'../Dataset/sorel/classification.pth'"
      ]
     },
     "execution_count": 28,
     "metadata": {},
     "output_type": "execute_result"
    }
   ],
   "source": [
    "os.path.join(sorel_dir,'classification.pth')"
   ]
  },
  {
   "cell_type": "code",
   "execution_count": 30,
   "metadata": {},
   "outputs": [
    {
     "name": "stdout",
     "output_type": "stream",
     "text": [
      "classification.pth  sorel_label.csv\t   test-features.npz\r\n",
      "db\t\t    sorel_label_sum25.csv  validation-features.npz\r\n",
      "meta.db\t\t    sorel_malware1.csv\r\n",
      "sorel_data.npz\t    sorel_malware.csv\r\n"
     ]
    }
   ],
   "source": [
    "!ls ../Dataset/sorel/"
   ]
  },
  {
   "cell_type": "code",
   "execution_count": 16,
   "metadata": {},
   "outputs": [
    {
     "data": {
      "text/plain": [
       "Text(0.5, 1.0, 'Train-Val Loss/Epoch')"
      ]
     },
     "execution_count": 16,
     "metadata": {},
     "output_type": "execute_result"
    },
    {
     "data": {
      "image/png": "[encoded data removed]",
      "text/plain": [
       "<Figure size 1440x504 with 2 Axes>"
      ]
     },
     "metadata": {
      "needs_background": "light"
     },
     "output_type": "display_data"
    }
   ],
   "source": [
    "# Create dataframes\n",
    "train_val_acc_df = pd.DataFrame.from_dict(accuracy_stats).reset_index().melt(id_vars=['index']).rename(columns={\"index\":\"epochs\"})\n",
    "train_val_loss_df = pd.DataFrame.from_dict(loss_stats).reset_index().melt(id_vars=['index']).rename(columns={\"index\":\"epochs\"})\n",
    "# Plot the dataframes\n",
    "fig, axes = plt.subplots(nrows=1, ncols=2, figsize=(20,7))\n",
    "sns.lineplot(data=train_val_acc_df, x = \"epochs\", y=\"value\", hue=\"variable\",  ax=axes[0]).set_title('Train-Val Accuracy/Epoch')\n",
    "sns.lineplot(data=train_val_loss_df, x = \"epochs\", y=\"value\", hue=\"variable\", ax=axes[1]).set_title('Train-Val Loss/Epoch')"
   ]
  },
  {
   "cell_type": "code",
   "execution_count": 32,
   "metadata": {},
   "outputs": [],
   "source": [
    "y_pred_list = []\n",
    "y_prob_list = []\n",
    "with torch.no_grad():\n",
    "    model.eval()\n",
    "    for X_batch, _ in test_loader:\n",
    "        X_batch = X_batch.to(device)\n",
    "        y_test_pred = model(X_batch)\n",
    "        _, y_pred_tags = torch.max(y_test_pred, dim = 1)\n",
    "         \n",
    "        y_pred_list.append(y_pred_tags.cpu().numpy())\n",
    "        y_prob_list.append(y_test_pred)\n",
    "        \n",
    "        \n",
    "y_pred_list = [a.squeeze().tolist() for a in y_pred_list]\n"
   ]
  },
  {
   "cell_type": "code",
   "execution_count": 33,
   "metadata": {},
   "outputs": [
    {
     "data": {
      "text/plain": [
       "(tensor([[-15.1259, -23.0870, -25.0988, -23.7968, -21.3749, -21.3992, -19.6963,\n",
       "          -17.8799,   5.0449, -22.6265, -18.0614]], device='cuda:0'),\n",
       " 8)"
      ]
     },
     "execution_count": 33,
     "metadata": {},
     "output_type": "execute_result"
    }
   ],
   "source": [
    "y_prob_list[0],y_pred_list[0]"
   ]
  },
  {
   "cell_type": "code",
   "execution_count": 16,
   "metadata": {},
   "outputs": [
    {
     "data": {
      "text/plain": [
       "array([ 8,  6, 10, ...,  4,  4,  7])"
      ]
     },
     "execution_count": 16,
     "metadata": {},
     "output_type": "execute_result"
    }
   ],
   "source": [
    "y_test.astype('long')"
   ]
  },
  {
   "cell_type": "code",
   "execution_count": 17,
   "metadata": {},
   "outputs": [
    {
     "data": {
      "text/plain": [
       "<matplotlib.axes._subplots.AxesSubplot at 0x2aed144500f0>"
      ]
     },
     "execution_count": 17,
     "metadata": {},
     "output_type": "execute_result"
    },
    {
     "data": {
      "image/png": "[encoded data removed]",
      "text/plain": [
       "<Figure size 432x288 with 2 Axes>"
      ]
     },
     "metadata": {
      "needs_background": "light"
     },
     "output_type": "display_data"
    }
   ],
   "source": [
    "confusion_matrix_df = pd.DataFrame(confusion_matrix(y_test.astype('long'), y_pred_list))\n",
    "\n",
    "sns.heatmap(confusion_matrix_df, annot=True)"
   ]
  },
  {
   "cell_type": "code",
   "execution_count": 19,
   "metadata": {},
   "outputs": [
    {
     "data": {
      "text/html": [
       "<div>\n",
       "<style scoped>\n",
       "    .dataframe tbody tr th:only-of-type {\n",
       "        vertical-align: middle;\n",
       "    }\n",
       "\n",
       "    .dataframe tbody tr th {\n",
       "        vertical-align: top;\n",
       "    }\n",
       "\n",
       "    .dataframe thead th {\n",
       "        text-align: right;\n",
       "    }\n",
       "</style>\n",
       "<table border=\"1\" class=\"dataframe\">\n",
       "  <thead>\n",
       "    <tr style=\"text-align: right;\">\n",
       "      <th></th>\n",
       "      <th>0</th>\n",
       "      <th>1</th>\n",
       "      <th>2</th>\n",
       "      <th>3</th>\n",
       "      <th>4</th>\n",
       "      <th>5</th>\n",
       "      <th>6</th>\n",
       "      <th>7</th>\n",
       "      <th>8</th>\n",
       "      <th>9</th>\n",
       "      <th>10</th>\n",
       "    </tr>\n",
       "  </thead>\n",
       "  <tbody>\n",
       "    <tr>\n",
       "      <th>0</th>\n",
       "      <td>1401</td>\n",
       "      <td>0</td>\n",
       "      <td>6</td>\n",
       "      <td>4</td>\n",
       "      <td>7</td>\n",
       "      <td>23</td>\n",
       "      <td>14</td>\n",
       "      <td>10</td>\n",
       "      <td>161</td>\n",
       "      <td>2</td>\n",
       "      <td>14</td>\n",
       "    </tr>\n",
       "    <tr>\n",
       "      <th>1</th>\n",
       "      <td>0</td>\n",
       "      <td>1866</td>\n",
       "      <td>0</td>\n",
       "      <td>27</td>\n",
       "      <td>0</td>\n",
       "      <td>0</td>\n",
       "      <td>0</td>\n",
       "      <td>0</td>\n",
       "      <td>0</td>\n",
       "      <td>3</td>\n",
       "      <td>0</td>\n",
       "    </tr>\n",
       "    <tr>\n",
       "      <th>2</th>\n",
       "      <td>2</td>\n",
       "      <td>0</td>\n",
       "      <td>1889</td>\n",
       "      <td>0</td>\n",
       "      <td>1</td>\n",
       "      <td>17</td>\n",
       "      <td>2</td>\n",
       "      <td>4</td>\n",
       "      <td>5</td>\n",
       "      <td>0</td>\n",
       "      <td>1</td>\n",
       "    </tr>\n",
       "    <tr>\n",
       "      <th>3</th>\n",
       "      <td>0</td>\n",
       "      <td>1</td>\n",
       "      <td>1</td>\n",
       "      <td>1895</td>\n",
       "      <td>75</td>\n",
       "      <td>5</td>\n",
       "      <td>13</td>\n",
       "      <td>3</td>\n",
       "      <td>2</td>\n",
       "      <td>3</td>\n",
       "      <td>2</td>\n",
       "    </tr>\n",
       "    <tr>\n",
       "      <th>4</th>\n",
       "      <td>15</td>\n",
       "      <td>0</td>\n",
       "      <td>6</td>\n",
       "      <td>12</td>\n",
       "      <td>1757</td>\n",
       "      <td>31</td>\n",
       "      <td>13</td>\n",
       "      <td>65</td>\n",
       "      <td>2</td>\n",
       "      <td>36</td>\n",
       "      <td>7</td>\n",
       "    </tr>\n",
       "    <tr>\n",
       "      <th>5</th>\n",
       "      <td>21</td>\n",
       "      <td>0</td>\n",
       "      <td>15</td>\n",
       "      <td>11</td>\n",
       "      <td>46</td>\n",
       "      <td>1510</td>\n",
       "      <td>1</td>\n",
       "      <td>11</td>\n",
       "      <td>11</td>\n",
       "      <td>3</td>\n",
       "      <td>64</td>\n",
       "    </tr>\n",
       "    <tr>\n",
       "      <th>6</th>\n",
       "      <td>3</td>\n",
       "      <td>0</td>\n",
       "      <td>3</td>\n",
       "      <td>5</td>\n",
       "      <td>4</td>\n",
       "      <td>5</td>\n",
       "      <td>1959</td>\n",
       "      <td>9</td>\n",
       "      <td>2</td>\n",
       "      <td>2</td>\n",
       "      <td>6</td>\n",
       "    </tr>\n",
       "    <tr>\n",
       "      <th>7</th>\n",
       "      <td>9</td>\n",
       "      <td>0</td>\n",
       "      <td>1</td>\n",
       "      <td>4</td>\n",
       "      <td>58</td>\n",
       "      <td>7</td>\n",
       "      <td>11</td>\n",
       "      <td>1841</td>\n",
       "      <td>6</td>\n",
       "      <td>4</td>\n",
       "      <td>1</td>\n",
       "    </tr>\n",
       "    <tr>\n",
       "      <th>8</th>\n",
       "      <td>99</td>\n",
       "      <td>0</td>\n",
       "      <td>3</td>\n",
       "      <td>1</td>\n",
       "      <td>1</td>\n",
       "      <td>8</td>\n",
       "      <td>1</td>\n",
       "      <td>5</td>\n",
       "      <td>1773</td>\n",
       "      <td>0</td>\n",
       "      <td>28</td>\n",
       "    </tr>\n",
       "    <tr>\n",
       "      <th>9</th>\n",
       "      <td>1</td>\n",
       "      <td>0</td>\n",
       "      <td>1</td>\n",
       "      <td>3</td>\n",
       "      <td>13</td>\n",
       "      <td>2</td>\n",
       "      <td>0</td>\n",
       "      <td>5</td>\n",
       "      <td>0</td>\n",
       "      <td>1972</td>\n",
       "      <td>3</td>\n",
       "    </tr>\n",
       "    <tr>\n",
       "      <th>10</th>\n",
       "      <td>7</td>\n",
       "      <td>0</td>\n",
       "      <td>0</td>\n",
       "      <td>3</td>\n",
       "      <td>16</td>\n",
       "      <td>4</td>\n",
       "      <td>5</td>\n",
       "      <td>5</td>\n",
       "      <td>16</td>\n",
       "      <td>3</td>\n",
       "      <td>1936</td>\n",
       "    </tr>\n",
       "  </tbody>\n",
       "</table>\n",
       "</div>"
      ],
      "text/plain": [
       "      0     1     2     3     4     5     6     7     8     9     10\n",
       "0   1401     0     6     4     7    23    14    10   161     2    14\n",
       "1      0  1866     0    27     0     0     0     0     0     3     0\n",
       "2      2     0  1889     0     1    17     2     4     5     0     1\n",
       "3      0     1     1  1895    75     5    13     3     2     3     2\n",
       "4     15     0     6    12  1757    31    13    65     2    36     7\n",
       "5     21     0    15    11    46  1510     1    11    11     3    64\n",
       "6      3     0     3     5     4     5  1959     9     2     2     6\n",
       "7      9     0     1     4    58     7    11  1841     6     4     1\n",
       "8     99     0     3     1     1     8     1     5  1773     0    28\n",
       "9      1     0     1     3    13     2     0     5     0  1972     3\n",
       "10     7     0     0     3    16     4     5     5    16     3  1936"
      ]
     },
     "execution_count": 19,
     "metadata": {},
     "output_type": "execute_result"
    }
   ],
   "source": [
    "confusion_matrix_df"
   ]
  },
  {
   "cell_type": "code",
   "execution_count": 18,
   "metadata": {},
   "outputs": [
    {
     "name": "stdout",
     "output_type": "stream",
     "text": [
      "              precision    recall  f1-score   support\n",
      "\n",
      "           0       0.90      0.85      0.88      1642\n",
      "           1       1.00      0.98      0.99      1896\n",
      "           2       0.98      0.98      0.98      1921\n",
      "           3       0.96      0.95      0.96      2000\n",
      "           4       0.89      0.90      0.90      1944\n",
      "           5       0.94      0.89      0.91      1693\n",
      "           6       0.97      0.98      0.98      1998\n",
      "           7       0.94      0.95      0.94      1942\n",
      "           8       0.90      0.92      0.91      1919\n",
      "           9       0.97      0.99      0.98      2000\n",
      "          10       0.94      0.97      0.95      1995\n",
      "\n",
      "    accuracy                           0.95     20950\n",
      "   macro avg       0.94      0.94      0.94     20950\n",
      "weighted avg       0.95      0.95      0.94     20950\n",
      "\n"
     ]
    }
   ],
   "source": [
    "print(classification_report(y_test.astype('long'), y_pred_list))\n"
   ]
  },
  {
   "cell_type": "code",
   "execution_count": 36,
   "metadata": {},
   "outputs": [],
   "source": [
    "ember2018 = '../Dataset/ember_zip/ember2018'"
   ]
  },
  {
   "cell_type": "code",
   "execution_count": 35,
   "metadata": {},
   "outputs": [],
   "source": [
    "EPOCHS = 50\n",
    "BATCH_SIZE = 16\n",
    "LEARNING_RATE = 0.0007\n",
    "NUM_FEATURES = 2381\n",
    "NUM_CLASSES =  2"
   ]
  },
  {
   "cell_type": "code",
   "execution_count": 64,
   "metadata": {},
   "outputs": [],
   "source": [
    "test_dataset = np.load(os.path.join(ember2018,'ember2018_test_data.npz'),allow_pickle=True)\n",
    "X_train,y_train = test_dataset['arr_0'],test_dataset['arr_1']"
   ]
  }
 ],
 "metadata": {
  "kernelspec": {
   "display_name": "Python 3",
   "language": "python",
   "name": "python3"
  },
  "language_info": {
   "codemirror_mode": {
    "name": "ipython",
    "version": 3
   },
   "file_extension": ".py",
   "mimetype": "text/x-python",
   "name": "python",
   "nbconvert_exporter": "python",
   "pygments_lexer": "ipython3",
   "version": "3.6.10"
  }
 },
 "nbformat": 4,
 "nbformat_minor": 4
}
