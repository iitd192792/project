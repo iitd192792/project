{
 "cells": [
  {
   "cell_type": "markdown",
   "metadata": {},
   "source": [
    "<h2>Baseline gradient boosted decision tree model trained using LightGBM </h2>"
   ]
  },
  {
   "cell_type": "code",
   "execution_count": 1,
   "metadata": {},
   "outputs": [],
   "source": [
    "import os\n",
    "import numpy as np\n",
    "from matplotlib import pyplot as plt\n",
    "import lightgbm as lgb\n",
    "import pandas as pd\n",
    "import seaborn as sns\n",
    "from sklearn.metrics import confusion_matrix, classification_report\n",
    "from tabulate import tabulate\n"
   ]
  },
  {
   "cell_type": "code",
   "execution_count": 2,
   "metadata": {},
   "outputs": [],
   "source": [
    "ember2018 = '../Dataset/ember_zip/ember2018'"
   ]
  },
  {
   "cell_type": "markdown",
   "metadata": {},
   "source": [
    "<h4> Train and Test Datset loaded </h4>"
   ]
  },
  {
   "cell_type": "code",
   "execution_count": 3,
   "metadata": {},
   "outputs": [],
   "source": [
    "\n",
    "train_dataset = np.load(os.path.join(ember2018,'ember2018_train_data.npz'),allow_pickle=True)\n",
    "X_train, y_train= train_dataset['arr_0'],train_dataset['arr_1']\n",
    "test_dataset = np.load(os.path.join(ember2018,'ember2018_test_data.npz'),allow_pickle=True)\n",
    "X_test,y_test = test_dataset['arr_0'],test_dataset['arr_1']"
   ]
  },
  {
   "cell_type": "code",
   "execution_count": 4,
   "metadata": {},
   "outputs": [
    {
     "data": {
      "image/png": "[encoded data removed]",
      "text/plain": [
       "<Figure size 432x288 with 1 Axes>"
      ]
     },
     "metadata": {
      "needs_background": "light"
     },
     "output_type": "display_data"
    }
   ],
   "source": [
    "df = pd.DataFrame(data=y_train, columns=[\"label\"])\n",
    "sns.countplot(x = 'label', data=df);\n"
   ]
  },
  {
   "cell_type": "code",
   "execution_count": 5,
   "metadata": {},
   "outputs": [
    {
     "data": {
      "image/png": "[encoded data removed]",
      "text/plain": [
       "<Figure size 432x288 with 1 Axes>"
      ]
     },
     "metadata": {
      "needs_background": "light"
     },
     "output_type": "display_data"
    }
   ],
   "source": [
    "df = pd.DataFrame(data=y_test, columns=[\"label\"])\n",
    "sns.countplot(x = 'label', data=df);\n"
   ]
  },
  {
   "cell_type": "markdown",
   "metadata": {},
   "source": [
    "<h4> A simple LightGBM model is trained and tested with default params </h4"
   ]
  },
  {
   "cell_type": "code",
   "execution_count": null,
   "metadata": {},
   "outputs": [],
   "source": [
    "params = {\n",
    "    \"boosting\": \"gbdt\",\n",
    "}\n",
    "lgbm_dataset = lgb.Dataset(X_train, y_train)\n",
    "lgbm_model = lgb.train(params, lgbm_dataset)\n",
    "lgbm_model.save_model(os.path.join(ember2018, \"model2018.txt\"))"
   ]
  },
  {
   "cell_type": "code",
   "execution_count": 6,
   "metadata": {},
   "outputs": [],
   "source": [
    "lgbm_model = lgb.Booster(model_file=os.path.join(ember2018,\"model2018.txt\"))"
   ]
  },
  {
   "cell_type": "code",
   "execution_count": 7,
   "metadata": {},
   "outputs": [
    {
     "name": "stdout",
     "output_type": "stream",
     "text": [
      "[ 1.00337967  0.17395378  1.0968505   0.11058255  0.00546004  1.01191492\n",
      "  0.06304254 -0.07678607  0.95925355  0.29313985]\n"
     ]
    }
   ],
   "source": [
    "y_test_pred = lgbm_model.predict(X_test)\n",
    "y_train_pred1 = lgbm_model.predict(X_train)\n",
    "print (y_test_pred[:10])"
   ]
  },
  {
   "cell_type": "markdown",
   "metadata": {},
   "source": [
    "<h5> It can be observed that with simple model with default params 100 trees and number of leaves 31 </h5>\n",
    "<h5>  train accuarcy was 100% , test accuracy obtained was 93% it took very less time to train</h5>\n",
    "<h5> The corresponding Confusion matrix and classification reports shown below </h5>"
   ]
  },
  {
   "cell_type": "code",
   "execution_count": 8,
   "metadata": {
    "scrolled": true
   },
   "outputs": [
    {
     "data": {
      "text/html": [
       "<div>\n",
       "<style scoped>\n",
       "    .dataframe tbody tr th:only-of-type {\n",
       "        vertical-align: middle;\n",
       "    }\n",
       "\n",
       "    .dataframe tbody tr th {\n",
       "        vertical-align: top;\n",
       "    }\n",
       "\n",
       "    .dataframe thead th {\n",
       "        text-align: right;\n",
       "    }\n",
       "</style>\n",
       "<table border=\"1\" class=\"dataframe\">\n",
       "  <thead>\n",
       "    <tr style=\"text-align: right;\">\n",
       "      <th></th>\n",
       "      <th>0</th>\n",
       "      <th>1</th>\n",
       "    </tr>\n",
       "  </thead>\n",
       "  <tbody>\n",
       "    <tr>\n",
       "      <th>0</th>\n",
       "      <td>91323</td>\n",
       "      <td>8677</td>\n",
       "    </tr>\n",
       "    <tr>\n",
       "      <th>1</th>\n",
       "      <td>5436</td>\n",
       "      <td>94564</td>\n",
       "    </tr>\n",
       "  </tbody>\n",
       "</table>\n",
       "</div>"
      ],
      "text/plain": [
       "       0      1\n",
       "0  91323   8677\n",
       "1   5436  94564"
      ]
     },
     "execution_count": 8,
     "metadata": {},
     "output_type": "execute_result"
    }
   ],
   "source": [
    "y_test_pred1 = np.where(y_test_pred > 0.5, 1, 0)\n",
    "y_train_pred = np.where(y_train_pred1 > 0.5, 1, 0)\n",
    "confusion_matrix_df = pd.DataFrame(confusion_matrix(y_test, y_test_pred1))\n",
    "# sns.heatmap(confusion_matrix_df, annot=True);\n",
    "confusion_matrix_df"
   ]
  },
  {
   "cell_type": "code",
   "execution_count": 9,
   "metadata": {},
   "outputs": [
    {
     "name": "stdout",
     "output_type": "stream",
     "text": [
      "              precision    recall  f1-score   support\n",
      "\n",
      "         0.0       0.94      0.91      0.93    100000\n",
      "         1.0       0.92      0.95      0.93    100000\n",
      "\n",
      "    accuracy                           0.93    200000\n",
      "   macro avg       0.93      0.93      0.93    200000\n",
      "weighted avg       0.93      0.93      0.93    200000\n",
      "\n"
     ]
    }
   ],
   "source": [
    "print(classification_report(y_test, y_test_pred1))\n"
   ]
  },
  {
   "cell_type": "code",
   "execution_count": 10,
   "metadata": {},
   "outputs": [
    {
     "data": {
      "text/html": [
       "<div>\n",
       "<style scoped>\n",
       "    .dataframe tbody tr th:only-of-type {\n",
       "        vertical-align: middle;\n",
       "    }\n",
       "\n",
       "    .dataframe tbody tr th {\n",
       "        vertical-align: top;\n",
       "    }\n",
       "\n",
       "    .dataframe thead th {\n",
       "        text-align: right;\n",
       "    }\n",
       "</style>\n",
       "<table border=\"1\" class=\"dataframe\">\n",
       "  <thead>\n",
       "    <tr style=\"text-align: right;\">\n",
       "      <th></th>\n",
       "      <th>0</th>\n",
       "      <th>1</th>\n",
       "    </tr>\n",
       "  </thead>\n",
       "  <tbody>\n",
       "    <tr>\n",
       "      <th>0</th>\n",
       "      <td>284127</td>\n",
       "      <td>15873</td>\n",
       "    </tr>\n",
       "    <tr>\n",
       "      <th>1</th>\n",
       "      <td>15338</td>\n",
       "      <td>284662</td>\n",
       "    </tr>\n",
       "  </tbody>\n",
       "</table>\n",
       "</div>"
      ],
      "text/plain": [
       "        0       1\n",
       "0  284127   15873\n",
       "1   15338  284662"
      ]
     },
     "execution_count": 10,
     "metadata": {},
     "output_type": "execute_result"
    }
   ],
   "source": [
    "confusion_matrix_df = pd.DataFrame(confusion_matrix(y_train, y_train_pred))\n",
    "\n",
    "# sns.heatmap(confusion_matrix_df, annot=True);\n",
    "confusion_matrix_df"
   ]
  },
  {
   "cell_type": "code",
   "execution_count": 11,
   "metadata": {},
   "outputs": [
    {
     "name": "stdout",
     "output_type": "stream",
     "text": [
      "              precision    recall  f1-score   support\n",
      "\n",
      "         0.0       0.95      0.95      0.95    300000\n",
      "         1.0       0.95      0.95      0.95    300000\n",
      "\n",
      "    accuracy                           0.95    600000\n",
      "   macro avg       0.95      0.95      0.95    600000\n",
      "weighted avg       0.95      0.95      0.95    600000\n",
      "\n"
     ]
    }
   ],
   "source": [
    "print(classification_report(y_train, y_train_pred))\n"
   ]
  },
  {
   "cell_type": "markdown",
   "metadata": {},
   "source": [
    "<h4> ember_model_2018.txt is a pretrained model provided by ember </h4>\n",
    "<h5> It was trained using the parameters params = {\n",
    "            \"boosting\": \"gbdt\",\n",
    "            \"objective\": \"binary\",\n",
    "            \"num_iterations\": 1000,\n",
    "            \"learning_rate\": 0.05,\n",
    "            \"num_leaves\": 2048,\n",
    "            \"max_depth\": 15,\n",
    "            \"min_data_in_leaf\": 50,\n",
    "            \"feature_fraction\": 0.5\n",
    "        } </h5>\n",
    "\n",
    "\n",
    "<h5> we can observe the model sizes below, model with deafult params having size 380kB where as model\n",
    "    with higher params having size 121MB </h5>"
   ]
  },
  {
   "cell_type": "code",
   "execution_count": null,
   "metadata": {
    "scrolled": true
   },
   "outputs": [],
   "source": [
    "ls -l ../Dataset/ember_zip/ember2018/*.txt"
   ]
  },
  {
   "cell_type": "markdown",
   "metadata": {},
   "source": [
    "<h5> After parameter tuning and by increasing the capacity of the dtree test accuracy was improved to 98% </h5>\n",
    "<h5> The corresponding Confusion matrix and classification reports shown below </h5>"
   ]
  },
  {
   "cell_type": "code",
   "execution_count": 17,
   "metadata": {},
   "outputs": [],
   "source": [
    "lgbm_model = lgb.Booster(model_file=os.path.join(ember2018,\"ember_model_2018.txt\"))"
   ]
  },
  {
   "cell_type": "code",
   "execution_count": 19,
   "metadata": {},
   "outputs": [
    {
     "data": {
      "text/html": [
       "<div>\n",
       "<style scoped>\n",
       "    .dataframe tbody tr th:only-of-type {\n",
       "        vertical-align: middle;\n",
       "    }\n",
       "\n",
       "    .dataframe tbody tr th {\n",
       "        vertical-align: top;\n",
       "    }\n",
       "\n",
       "    .dataframe thead th {\n",
       "        text-align: right;\n",
       "    }\n",
       "</style>\n",
       "<table border=\"1\" class=\"dataframe\">\n",
       "  <thead>\n",
       "    <tr style=\"text-align: right;\">\n",
       "      <th></th>\n",
       "      <th>0</th>\n",
       "      <th>1</th>\n",
       "    </tr>\n",
       "  </thead>\n",
       "  <tbody>\n",
       "    <tr>\n",
       "      <th>0</th>\n",
       "      <td>98314</td>\n",
       "      <td>1686</td>\n",
       "    </tr>\n",
       "    <tr>\n",
       "      <th>1</th>\n",
       "      <td>2710</td>\n",
       "      <td>97290</td>\n",
       "    </tr>\n",
       "  </tbody>\n",
       "</table>\n",
       "</div>"
      ],
      "text/plain": [
       "       0      1\n",
       "0  98314   1686\n",
       "1   2710  97290"
      ]
     },
     "execution_count": 19,
     "metadata": {},
     "output_type": "execute_result"
    }
   ],
   "source": [
    "y_test_pred = lgbm_model.predict(X_test)\n",
    "y_train_pred1 = lgbm_model.predict(X_train)\n",
    "y_test_pred1 = np.where(y_test_pred > 0.5, 1, 0)\n",
    "y_train_pred = np.where(y_train_pred1 > 0.5, 1, 0)\n",
    "\n",
    "confusion_matrix_df = pd.DataFrame(confusion_matrix(y_test, y_test_pred1))\n",
    "\n",
    "# sns.heatmap(confusion_matrix_df, annot=True);\n",
    "confusion_matrix_df"
   ]
  },
  {
   "cell_type": "code",
   "execution_count": 20,
   "metadata": {},
   "outputs": [
    {
     "name": "stdout",
     "output_type": "stream",
     "text": [
      "              precision    recall  f1-score   support\n",
      "\n",
      "         0.0       0.97      0.98      0.98    100000\n",
      "         1.0       0.98      0.97      0.98    100000\n",
      "\n",
      "    accuracy                           0.98    200000\n",
      "   macro avg       0.98      0.98      0.98    200000\n",
      "weighted avg       0.98      0.98      0.98    200000\n",
      "\n"
     ]
    }
   ],
   "source": [
    "print(classification_report(y_test, y_test_pred1))"
   ]
  },
  {
   "cell_type": "code",
   "execution_count": 21,
   "metadata": {},
   "outputs": [
    {
     "data": {
      "text/html": [
       "<div>\n",
       "<style scoped>\n",
       "    .dataframe tbody tr th:only-of-type {\n",
       "        vertical-align: middle;\n",
       "    }\n",
       "\n",
       "    .dataframe tbody tr th {\n",
       "        vertical-align: top;\n",
       "    }\n",
       "\n",
       "    .dataframe thead th {\n",
       "        text-align: right;\n",
       "    }\n",
       "</style>\n",
       "<table border=\"1\" class=\"dataframe\">\n",
       "  <thead>\n",
       "    <tr style=\"text-align: right;\">\n",
       "      <th></th>\n",
       "      <th>0</th>\n",
       "      <th>1</th>\n",
       "    </tr>\n",
       "  </thead>\n",
       "  <tbody>\n",
       "    <tr>\n",
       "      <th>0</th>\n",
       "      <td>300000</td>\n",
       "      <td>0</td>\n",
       "    </tr>\n",
       "    <tr>\n",
       "      <th>1</th>\n",
       "      <td>1</td>\n",
       "      <td>299999</td>\n",
       "    </tr>\n",
       "  </tbody>\n",
       "</table>\n",
       "</div>"
      ],
      "text/plain": [
       "        0       1\n",
       "0  300000       0\n",
       "1       1  299999"
      ]
     },
     "execution_count": 21,
     "metadata": {},
     "output_type": "execute_result"
    }
   ],
   "source": [
    "\n",
    "confusion_matrix_df = pd.DataFrame(confusion_matrix(y_train, y_train_pred))\n",
    "\n",
    "# sns.heatmap(confusion_matrix_df, annot=True);\n",
    "confusion_matrix_df"
   ]
  },
  {
   "cell_type": "code",
   "execution_count": 22,
   "metadata": {},
   "outputs": [
    {
     "name": "stdout",
     "output_type": "stream",
     "text": [
      "              precision    recall  f1-score   support\n",
      "\n",
      "         0.0       1.00      1.00      1.00    300000\n",
      "         1.0       1.00      1.00      1.00    300000\n",
      "\n",
      "    accuracy                           1.00    600000\n",
      "   macro avg       1.00      1.00      1.00    600000\n",
      "weighted avg       1.00      1.00      1.00    600000\n",
      "\n"
     ]
    }
   ],
   "source": [
    "print(classification_report(y_train, y_train_pred))"
   ]
  },
  {
   "cell_type": "markdown",
   "metadata": {},
   "source": [
    "<h3> Experiment With Packer: </h3>\n",
    "<h5> Generally Packers are used to compress the PEfiles. But the same are being used for encoding the PE files to \n",
    "Obfuscate Malware detectors. To check the perormance of the model aginst packers I have taken 26 clean files from windows and created varients of them using UPX packer. when tested against the model, it is observed that all the original files classified as benign. but one packed file detected as malware which is packed verison standard cmd.exe in windows</h5>"
   ]
  },
  {
   "cell_type": "code",
   "execution_count": null,
   "metadata": {},
   "outputs": [],
   "source": [
    "original_binaries_dir =   '../Dataset/executables/original'\n",
    "packed_binaries_dir =   '../Dataset/executables/packed'"
   ]
  },
  {
   "cell_type": "code",
   "execution_count": null,
   "metadata": {},
   "outputs": [],
   "source": [
    "!ls '../Dataset/executables/packed'"
   ]
  },
  {
   "cell_type": "code",
   "execution_count": null,
   "metadata": {
    "scrolled": true
   },
   "outputs": [],
   "source": [
    "!ls '../Dataset/executables/original'"
   ]
  },
  {
   "cell_type": "code",
   "execution_count": null,
   "metadata": {},
   "outputs": [],
   "source": [
    "from extract_binary_features import extract_features\n",
    "from ember_dataset import create_data,read_metadata,read_vectorized_features\n"
   ]
  },
  {
   "cell_type": "code",
   "execution_count": null,
   "metadata": {},
   "outputs": [],
   "source": [
    "original_features = extract_features(original_binaries_dir,feature_version=2)\n",
    "packed_features = extract_features(packed_binaries_dir,feature_version=2)"
   ]
  },
  {
   "cell_type": "code",
   "execution_count": null,
   "metadata": {},
   "outputs": [],
   "source": [
    "original_features.shape, packed_features.shape"
   ]
  },
  {
   "cell_type": "code",
   "execution_count": null,
   "metadata": {},
   "outputs": [],
   "source": [
    "y_orig_pred = lgbm_model.predict(original_features)\n",
    "y_orig_pred = np.where(y_orig_pred > 0.5, 1, 0)\n",
    "print (y_orig_pred)\n"
   ]
  },
  {
   "cell_type": "code",
   "execution_count": null,
   "metadata": {},
   "outputs": [],
   "source": [
    "y_packed_pred = lgbm_model.predict(packed_features)\n",
    "y_packed_pred = np.where(y_packed_pred > 0.5, 1, 0)\n",
    "print (y_packed_pred)"
   ]
  },
  {
   "cell_type": "markdown",
   "metadata": {},
   "source": [
    "<h3> Experiment With Sorel Datset on model trained using ember Dataset </h3>\n",
    "<h5> test-features.npz and validation-features.npz are the files obtained from sorel datset which combinely contains\n",
    "20 lakh malware features and 45 lakh beningn samples.</h5>\n",
    "\n",
    "<h5>When tested 98% accuracy was obtained aginst these datasets. It is good to see that the model which was trained using 3 lakh samples was able to detect 20 lakh malwares well with 98% accuarcy. which means the model is generaizing well with all classes of the malwares. Results and confusion matrix can be seen below</h5>"
   ]
  },
  {
   "cell_type": "code",
   "execution_count": 26,
   "metadata": {},
   "outputs": [],
   "source": [
    "sorel_dir = '../Dataset/sorel'"
   ]
  },
  {
   "cell_type": "code",
   "execution_count": null,
   "metadata": {},
   "outputs": [],
   "source": [
    "\n",
    "data = np.load(os.path.join(sorel_dir,'test-features.npz'))\n",
    "\n",
    "data['arr_0'].shape"
   ]
  },
  {
   "cell_type": "code",
   "execution_count": null,
   "metadata": {},
   "outputs": [],
   "source": [
    "train = data['arr_0']\n",
    "y_true= data['arr_1']\n",
    "y_pred = lgbm_model.predict(train)\n",
    "y_pred = np.where(y_pred > 0.5, 1, 0)\n",
    "confusion_matrix_df = pd.DataFrame(confusion_matrix(y_true, y_pred))\n",
    "# sns.heatmap(confusion_matrix_df, annot=True);\n",
    "confusion_matrix_df"
   ]
  },
  {
   "cell_type": "code",
   "execution_count": null,
   "metadata": {},
   "outputs": [],
   "source": [
    "print(classification_report(y_true, y_pred))"
   ]
  },
  {
   "cell_type": "code",
   "execution_count": null,
   "metadata": {},
   "outputs": [],
   "source": [
    "\n",
    "data = np.load(os.path.join(sorel_dir,'validation-features.npz'))\n",
    "data['arr_0'].shape"
   ]
  },
  {
   "cell_type": "code",
   "execution_count": null,
   "metadata": {},
   "outputs": [],
   "source": [
    "train = data['arr_0']\n",
    "y_true= data['arr_1']\n",
    "y_pred = lgbm_model.predict(train)\n",
    "y_pred = np.where(y_pred > 0.5, 1, 0)\n",
    "confusion_matrix_df = pd.DataFrame(confusion_matrix(y_true, y_pred))\n",
    "# sns.heatmap(confusion_matrix_df, annot=True);\n",
    "confusion_matrix_df"
   ]
  },
  {
   "cell_type": "code",
   "execution_count": null,
   "metadata": {},
   "outputs": [],
   "source": [
    "print(classification_report(y_true, y_pred))"
   ]
  },
  {
   "cell_type": "markdown",
   "metadata": {},
   "source": [
    "<h3> Experiment with differrrent classes of malwares on model trained using ember Dataset </h3>\n",
    "<h5> Tested the model with 11 classes of the malwares, it is observed that for the classes crypto_miner and downloader\n",
    "the detection ration is very less compared to others around 60% the distribution of the malware sample from each class and the corressponding accuracies shown below.</h5>\n",
    "\n"
   ]
  },
  {
   "cell_type": "code",
   "execution_count": 27,
   "metadata": {},
   "outputs": [
    {
     "data": {
      "text/plain": [
       "((104746, 2381), (104746, 13))"
      ]
     },
     "execution_count": 27,
     "metadata": {},
     "output_type": "execute_result"
    }
   ],
   "source": [
    "data = np.load(os.path.join(sorel_dir,'sorel_data.npz'),allow_pickle=True)\n",
    "data['arr_0'].shape,data['arr_1'].shape,"
   ]
  },
  {
   "cell_type": "code",
   "execution_count": 28,
   "metadata": {},
   "outputs": [
    {
     "name": "stdout",
     "output_type": "stream",
     "text": [
      "accuracy is:  0.9209420884807057\n"
     ]
    }
   ],
   "source": [
    "y_pred = lgbm_model.predict(data['arr_0'])\n",
    "y_pred = np.where(y_pred > 0.5, 1, 0)\n",
    "print(\"accuracy is: \", np.sum(y_pred)/len(y_pred))\n"
   ]
  },
  {
   "cell_type": "code",
   "execution_count": 29,
   "metadata": {},
   "outputs": [
    {
     "data": {
      "text/plain": [
       "<matplotlib.axes._subplots.AxesSubplot at 0x2b63cad7af98>"
      ]
     },
     "execution_count": 29,
     "metadata": {},
     "output_type": "execute_result"
    },
    {
     "data": {
      "image/png": "[encoded data removed]",
      "text/plain": [
       "<Figure size 432x288 with 1 Axes>"
      ]
     },
     "metadata": {
      "needs_background": "light"
     },
     "output_type": "display_data"
    }
   ],
   "source": [
    "df = pd.DataFrame(data=data['arr_1'][:,-1], columns=[\"label\"])\n",
    "sns.countplot(x = 'label', data=df)"
   ]
  },
  {
   "cell_type": "code",
   "execution_count": 30,
   "metadata": {
    "scrolled": true
   },
   "outputs": [
    {
     "name": "stdout",
     "output_type": "stream",
     "text": [
      "label            sample_count    samples_detected    accuracy\n",
      "-------------  --------------  ------------------  ----------\n",
      "adware                   8211                7151    0.870905\n",
      "flooder                  9481                9480    0.999895\n",
      "ransomware               9607                9585    0.99771\n",
      "dropper                  9997                9942    0.994498\n",
      "spyware                  9717                9557    0.983534\n",
      "packed                   8465                7776    0.918606\n",
      "crypto_miner             9988                8655    0.86654\n",
      "file_infector            9709                9067    0.933876\n",
      "installer                9595                5533    0.576655\n",
      "worm                    10000                9969    0.9969\n",
      "downloader               9976                9750    0.977346\n"
     ]
    }
   ],
   "source": [
    "def per_label_detection(labels,y_pred):\n",
    "    D = [[0,0] for range in np.unique(labels)]\n",
    "    for l,y in zip(labels,y_pred):\n",
    "        D[l][0] += 1\n",
    "        D[l][1] += y\n",
    "    return D\n",
    "P = per_label_detection(data['arr_1'][:,-1],y_pred)\n",
    "\n",
    "\n",
    "labels = ['adware', 'flooder', 'ransomware', 'dropper',\n",
    "   'spyware', 'packed', 'crypto_miner', 'file_infector', 'installer',\n",
    "   'worm', 'downloader']\n",
    "\n",
    "table = []\n",
    "for i,l in zip(P,labels):\n",
    "    \n",
    "    table.append([l,i[0],i[1], i[1]/i[0]])\n",
    "print (tabulate(table,headers=['label', 'sample_count','samples_detected','accuracy']))\n"
   ]
  },
  {
   "cell_type": "code",
   "execution_count": 12,
   "metadata": {},
   "outputs": [
    {
     "name": "stdout",
     "output_type": "stream",
     "text": [
      "0.9812892095\n"
     ]
    },
    {
     "data": {
      "image/png": "[encoded data removed]",
      "text/plain": [
       "<Figure size 432x288 with 1 Axes>"
      ]
     },
     "metadata": {
      "needs_background": "light"
     },
     "output_type": "display_data"
    }
   ],
   "source": [
    "from sklearn.tree import DecisionTreeClassifier\n",
    "from sklearn.metrics import roc_curve, roc_auc_score\n",
    "from matplotlib import pyplot as plt\n",
    "\n",
    "\n",
    "\n",
    "print (roc_auc_score(y_test, y_test_pred))\n",
    "\n",
    "fpr, tpr, _ = roc_curve(y_test, y_test_pred)\n",
    "\n",
    "plt.clf()\n",
    "plt.plot(fpr, tpr)\n",
    "plt.xlabel('FPR')\n",
    "plt.ylabel('TPR')\n",
    "plt.title('ROC curve')\n",
    "plt.show()"
   ]
  },
  {
   "cell_type": "code",
   "execution_count": 13,
   "metadata": {},
   "outputs": [
    {
     "name": "stdout",
     "output_type": "stream",
     "text": [
      "0.9894951144\n"
     ]
    },
    {
     "data": {
      "image/png": "[encoded data removed]",
      "text/plain": [
       "<Figure size 432x288 with 1 Axes>"
      ]
     },
     "metadata": {
      "needs_background": "light"
     },
     "output_type": "display_data"
    }
   ],
   "source": [
    "from sklearn.tree import DecisionTreeClassifier\n",
    "from sklearn.metrics import roc_curve, roc_auc_score\n",
    "from matplotlib import pyplot as plt\n",
    "\n",
    "\n",
    "\n",
    "print (roc_auc_score(y_train, y_train_pred1))\n",
    "\n",
    "fpr, tpr, _ = roc_curve(y_train, y_train_pred1)\n",
    "\n",
    "plt.clf()\n",
    "plt.plot(fpr, tpr)\n",
    "plt.xlabel('FPR')\n",
    "plt.ylabel('TPR')\n",
    "plt.title('ROC curve')\n",
    "plt.show()"
   ]
  },
  {
   "cell_type": "code",
   "execution_count": 23,
   "metadata": {},
   "outputs": [
    {
     "name": "stdout",
     "output_type": "stream",
     "text": [
      "0.9964289467999999\n"
     ]
    },
    {
     "data": {
      "image/png": "[encoded data removed]",
      "text/plain": [
       "<Figure size 432x288 with 1 Axes>"
      ]
     },
     "metadata": {
      "needs_background": "light"
     },
     "output_type": "display_data"
    }
   ],
   "source": [
    "from sklearn.tree import DecisionTreeClassifier\n",
    "from sklearn.metrics import roc_curve, roc_auc_score\n",
    "from matplotlib import pyplot as plt\n",
    "\n",
    "\n",
    "\n",
    "print (roc_auc_score(y_test, y_test_pred))\n",
    "\n",
    "fpr, tpr, _ = roc_curve(y_test, y_test_pred)\n",
    "\n",
    "plt.clf()\n",
    "plt.plot(fpr, tpr)\n",
    "plt.xlabel('FPR')\n",
    "plt.ylabel('TPR')\n",
    "plt.title('ROC curve')\n",
    "plt.show()"
   ]
  },
  {
   "cell_type": "code",
   "execution_count": 24,
   "metadata": {},
   "outputs": [
    {
     "name": "stdout",
     "output_type": "stream",
     "text": [
      "0.9999999999944444\n"
     ]
    },
    {
     "data": {
      "image/png": "[encoded data removed]",
      "text/plain": [
       "<Figure size 432x288 with 1 Axes>"
      ]
     },
     "metadata": {
      "needs_background": "light"
     },
     "output_type": "display_data"
    }
   ],
   "source": [
    "from sklearn.tree import DecisionTreeClassifier\n",
    "from sklearn.metrics import roc_curve, roc_auc_score\n",
    "from matplotlib import pyplot as plt\n",
    "\n",
    "\n",
    "\n",
    "print (roc_auc_score(y_train, y_train_pred1))\n",
    "\n",
    "fpr, tpr, _ = roc_curve(y_train, y_train_pred1)\n",
    "\n",
    "plt.clf()\n",
    "plt.plot(fpr, tpr)\n",
    "plt.xlabel('FPR')\n",
    "plt.ylabel('TPR')\n",
    "plt.title('ROC curve')\n",
    "plt.show()"
   ]
  }
 ],
 "metadata": {
  "kernelspec": {
   "display_name": "Python 3",
   "language": "python",
   "name": "python3"
  },
  "language_info": {
   "codemirror_mode": {
    "name": "ipython",
    "version": 3
   },
   "file_extension": ".py",
   "mimetype": "text/x-python",
   "name": "python",
   "nbconvert_exporter": "python",
   "pygments_lexer": "ipython3",
   "version": "3.6.10"
  }
 },
 "nbformat": 4,
 "nbformat_minor": 4
}
