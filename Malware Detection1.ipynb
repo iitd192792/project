{
 "cells": [
  {
   "cell_type": "markdown",
   "metadata": {},
   "source": [
    "<h3> Malware Classification Using Ember features and Feed Forward Neural Network </h3>"
   ]
  },
  {
   "cell_type": "markdown",
   "metadata": {},
   "source": [
    "\n",
    "<h4> used a  simple 3-layer feed-forward network with dropout and batch-norm. </h4>\n",
    "<h5> At the end it can be seen that the training accuracy is 99% and validation accuracy is 92% , and testing accuracy is 92%\n",
    "    The model is converging in the inital 5 epochs itself. since a malware sample can belongs to multiple classes at the same time. and the label with max probability is considered as true label.the validation and test accuracy around 92% is still good.\n",
    "    I belive that if we consider top 3 labels then the accuracy can be much improved. </h5>\n",
    "    \n",
    "<h5> the corressponding confusion matrix and classification reports and plots can be seen at the end. </h5>\n",
    "<h6> the architecure implemented here is very simple and more similar to the one in this link: \n",
    "    https://towardsdatascience.com/pytorch-tabular-multiclass-classification-9f8211a123ab</h6>"
   ]
  },
  {
   "cell_type": "code",
   "execution_count": 1,
   "metadata": {},
   "outputs": [],
   "source": [
    "import numpy as np\n",
    "import pandas as pd\n",
    "import seaborn as sns\n",
    "from tqdm.notebook import tqdm\n",
    "import matplotlib.pyplot as plt\n",
    "import os\n",
    "import torch\n",
    "import torch.nn as nn\n",
    "import torch.optim as optim\n",
    "from torch.utils.data import Dataset, DataLoader, WeightedRandomSampler\n",
    "\n",
    "from sklearn.preprocessing import MinMaxScaler    \n",
    "from sklearn.model_selection import train_test_split\n",
    "from sklearn.metrics import confusion_matrix, classification_report,accuracy_score"
   ]
  },
  {
   "cell_type": "code",
   "execution_count": 2,
   "metadata": {},
   "outputs": [],
   "source": [
    "ember2018 = '../Dataset/ember_zip/ember2018'\n",
    "test_dataset = np.load(os.path.join(ember2018,'ember2018_test_data.npz'),allow_pickle=True)\n",
    "X_train,y_train = test_dataset['arr_0'],test_dataset['arr_1']\n",
    "EPOCHS = 50\n",
    "BATCH_SIZE = 16\n",
    "LEARNING_RATE = 0.0007\n",
    "NUM_FEATURES = 2381\n",
    "NUM_CLASSES =  2"
   ]
  },
  {
   "cell_type": "code",
   "execution_count": 4,
   "metadata": {},
   "outputs": [
    {
     "data": {
      "image/png": "[encoded data removed]",
      "text/plain": [
       "<Figure size 432x288 with 1 Axes>"
      ]
     },
     "metadata": {
      "needs_background": "light"
     },
     "output_type": "display_data"
    }
   ],
   "source": [
    "df = pd.DataFrame(data=y_train, columns=[\"label\"])\n",
    "sns.countplot(x = 'label', data=df);"
   ]
  },
  {
   "cell_type": "code",
   "execution_count": 5,
   "metadata": {},
   "outputs": [],
   "source": [
    "# Split into train+val and test\n",
    "X_trainval, X_test, y_trainval, y_test = train_test_split(X_train, y_train, test_size=0.2, stratify=y_train, random_state=69)\n",
    "\n",
    "# Split train into train-val\n",
    "X_train, X_val, y_train, y_val = train_test_split(X_trainval, y_trainval, test_size=0.1, stratify=y_trainval, random_state=21)"
   ]
  },
  {
   "cell_type": "code",
   "execution_count": 6,
   "metadata": {},
   "outputs": [],
   "source": [
    "scaler = MinMaxScaler()\n",
    "X_train = scaler.fit_transform(X_train)\n",
    "X_val = scaler.transform(X_val)\n",
    "X_test = scaler.transform(X_test)\n",
    "X_train, y_train = np.array(X_train), np.array(y_train)\n",
    "X_val, y_val = np.array(X_val), np.array(y_val)\n",
    "X_test, y_test = np.array(X_test), np.array(y_test)"
   ]
  },
  {
   "cell_type": "code",
   "execution_count": 7,
   "metadata": {},
   "outputs": [],
   "source": [
    "\n",
    "class ClassifierDataset(Dataset):    \n",
    "    def __init__(self, X_data, y_data):\n",
    "        self.X_data = X_data\n",
    "        self.y_data = y_data        \n",
    "    def __getitem__(self, index):\n",
    "        return self.X_data[index], self.y_data[index]        \n",
    "    def __len__ (self):\n",
    "        return len(self.X_data)\n",
    "\n",
    "class MulticlassClassification(nn.Module):\n",
    "    def __init__(self, num_feature, num_class):\n",
    "        super(MulticlassClassification, self).__init__()\n",
    "        \n",
    "        self.layer_1 = nn.Linear(num_feature, 512)\n",
    "        self.layer_2 = nn.Linear(512, 128)\n",
    "        self.layer_3 = nn.Linear(128, 64)\n",
    "        self.layer_out = nn.Linear(64, num_class) \n",
    "        \n",
    "        self.relu = nn.ReLU()\n",
    "        self.dropout = nn.Dropout(p=0.2)\n",
    "        self.batchnorm1 = nn.BatchNorm1d(512)\n",
    "        self.batchnorm2 = nn.BatchNorm1d(128)\n",
    "        self.batchnorm3 = nn.BatchNorm1d(64)\n",
    "        \n",
    "    def forward(self, x):\n",
    "        x = self.layer_1(x)\n",
    "        x = self.batchnorm1(x)\n",
    "        x = self.relu(x)\n",
    "        \n",
    "        x = self.layer_2(x)\n",
    "        x = self.batchnorm2(x)\n",
    "        x = self.relu(x)\n",
    "        x = self.dropout(x)\n",
    "        \n",
    "        x = self.layer_3(x)\n",
    "        x = self.batchnorm3(x)\n",
    "        x = self.relu(x)\n",
    "        x = self.dropout(x)\n",
    "        \n",
    "        x = self.layer_out(x)\n",
    "        \n",
    "        return x\n"
   ]
  },
  {
   "cell_type": "code",
   "execution_count": 8,
   "metadata": {},
   "outputs": [
    {
     "name": "stdout",
     "output_type": "stream",
     "text": [
      "tensor([1.3889e-05, 1.3889e-05])\n"
     ]
    }
   ],
   "source": [
    "device = torch.device(\"cuda:0\" if torch.cuda.is_available() else \"cpu\")\n",
    "values,counts = np.unique(y_train,return_counts=True)\n",
    "class_weights = 1./torch.tensor(counts, dtype=torch.float) \n",
    "print(class_weights)\n"
   ]
  },
  {
   "cell_type": "code",
   "execution_count": 9,
   "metadata": {},
   "outputs": [],
   "source": [
    "train_dataset = ClassifierDataset(torch.from_numpy(X_train).float(), torch.from_numpy(y_train.astype('float64')).long())\n",
    "val_dataset = ClassifierDataset(torch.from_numpy(X_val).float(), torch.from_numpy(y_val.astype('float64')).long())\n",
    "test_dataset = ClassifierDataset(torch.from_numpy(X_test).float(), torch.from_numpy(y_test.astype('float64')).long())\n",
    "train_loader = DataLoader(dataset=train_dataset,\n",
    "                          batch_size=BATCH_SIZE,\n",
    ")\n",
    "val_loader = DataLoader(dataset=val_dataset, batch_size=1)\n",
    "test_loader = DataLoader(dataset=test_dataset, batch_size=1)\n",
    "\n"
   ]
  },
  {
   "cell_type": "code",
   "execution_count": 12,
   "metadata": {},
   "outputs": [
    {
     "data": {
      "text/plain": [
       "MulticlassClassification(\n",
       "  (layer_1): Linear(in_features=2381, out_features=512, bias=True)\n",
       "  (layer_2): Linear(in_features=512, out_features=128, bias=True)\n",
       "  (layer_3): Linear(in_features=128, out_features=64, bias=True)\n",
       "  (layer_out): Linear(in_features=64, out_features=2, bias=True)\n",
       "  (relu): ReLU()\n",
       "  (dropout): Dropout(p=0.2)\n",
       "  (batchnorm1): BatchNorm1d(512, eps=1e-05, momentum=0.1, affine=True, track_running_stats=True)\n",
       "  (batchnorm2): BatchNorm1d(128, eps=1e-05, momentum=0.1, affine=True, track_running_stats=True)\n",
       "  (batchnorm3): BatchNorm1d(64, eps=1e-05, momentum=0.1, affine=True, track_running_stats=True)\n",
       ")"
      ]
     },
     "execution_count": 12,
     "metadata": {},
     "output_type": "execute_result"
    }
   ],
   "source": [
    "model = MulticlassClassification(num_feature = NUM_FEATURES, num_class=NUM_CLASSES)\n",
    "model.load_state_dict(torch.load(os.path.join(ember2018,'detection.pth')))\n",
    "model.eval()\n",
    "model.to(device)"
   ]
  },
  {
   "cell_type": "code",
   "execution_count": 14,
   "metadata": {},
   "outputs": [
    {
     "name": "stdout",
     "output_type": "stream",
     "text": [
      "MulticlassClassification(\n",
      "  (layer_1): Linear(in_features=2381, out_features=512, bias=True)\n",
      "  (layer_2): Linear(in_features=512, out_features=128, bias=True)\n",
      "  (layer_3): Linear(in_features=128, out_features=64, bias=True)\n",
      "  (layer_out): Linear(in_features=64, out_features=2, bias=True)\n",
      "  (relu): ReLU()\n",
      "  (dropout): Dropout(p=0.2)\n",
      "  (batchnorm1): BatchNorm1d(512, eps=1e-05, momentum=0.1, affine=True, track_running_stats=True)\n",
      "  (batchnorm2): BatchNorm1d(128, eps=1e-05, momentum=0.1, affine=True, track_running_stats=True)\n",
      "  (batchnorm3): BatchNorm1d(64, eps=1e-05, momentum=0.1, affine=True, track_running_stats=True)\n",
      ")\n"
     ]
    }
   ],
   "source": [
    "model = MulticlassClassification(num_feature = NUM_FEATURES, num_class=NUM_CLASSES)\n",
    "model.to(device)\n",
    "\n",
    "criterion = nn.CrossEntropyLoss(weight=class_weights.to(device))\n",
    "optimizer = optim.Adam(model.parameters(), lr=LEARNING_RATE)\n",
    "print(model)"
   ]
  },
  {
   "cell_type": "code",
   "execution_count": 15,
   "metadata": {},
   "outputs": [],
   "source": [
    "def multi_acc(y_pred, y_test):\n",
    "    y_pred_softmax = torch.log_softmax(y_pred, dim = 1)\n",
    "    _, y_pred_tags = torch.max(y_pred_softmax, dim = 1)    \n",
    "    \n",
    "    correct_pred = (y_pred_tags == y_test).float()\n",
    "    acc = correct_pred.sum() / len(correct_pred)\n",
    "    \n",
    "    acc = torch.round(acc * 100)\n",
    "    \n",
    "    return (acc)"
   ]
  },
  {
   "cell_type": "code",
   "execution_count": 16,
   "metadata": {},
   "outputs": [],
   "source": [
    "accuracy_stats = {\n",
    "    'train': [],\n",
    "    \"val\": []\n",
    "}\n",
    "loss_stats = {\n",
    "    'train': [],\n",
    "    \"val\": []\n",
    "}"
   ]
  },
  {
   "cell_type": "code",
   "execution_count": 17,
   "metadata": {},
   "outputs": [
    {
     "data": {
      "application/vnd.jupyter.widget-view+json": {
       "model_id": "51ba16e57d0c4deb801696487b38e951",
       "version_major": 2,
       "version_minor": 0
      },
      "text/plain": [
       "HBox(children=(HTML(value=''), FloatProgress(value=0.0, max=50.0), HTML(value='')))"
      ]
     },
     "metadata": {},
     "output_type": "display_data"
    },
    {
     "name": "stdout",
     "output_type": "stream",
     "text": [
      "Epoch 001: | Train Loss: 0.20881 | Val Loss: 0.69888 | Train Acc: 91.810| Val Acc: 94.388\n",
      "Epoch 002: | Train Loss: 0.12978 | Val Loss: 0.99220 | Train Acc: 95.153| Val Acc: 95.162\n",
      "Epoch 003: | Train Loss: 0.09693 | Val Loss: 0.43272 | Train Acc: 96.453| Val Acc: 95.650\n",
      "Epoch 004: | Train Loss: 0.07583 | Val Loss: 0.44156 | Train Acc: 97.247| Val Acc: 94.781\n",
      "Epoch 005: | Train Loss: 0.06221 | Val Loss: 0.96631 | Train Acc: 97.780| Val Acc: 95.312\n",
      "Epoch 006: | Train Loss: 0.05200 | Val Loss: 1.31929 | Train Acc: 98.152| Val Acc: 95.888\n",
      "Epoch 007: | Train Loss: 0.04470 | Val Loss: 1.15506 | Train Acc: 98.432| Val Acc: 95.856\n",
      "Epoch 008: | Train Loss: 0.03699 | Val Loss: 1.33602 | Train Acc: 98.701| Val Acc: 96.250\n",
      "Epoch 009: | Train Loss: 0.03446 | Val Loss: 0.97687 | Train Acc: 98.802| Val Acc: 96.381\n",
      "Epoch 010: | Train Loss: 0.03075 | Val Loss: 1.55790 | Train Acc: 98.916| Val Acc: 96.306\n",
      "Epoch 011: | Train Loss: 0.02611 | Val Loss: 1.00609 | Train Acc: 99.106| Val Acc: 93.875\n",
      "Epoch 012: | Train Loss: 0.02416 | Val Loss: 1.02547 | Train Acc: 99.162| Val Acc: 96.056\n",
      "Epoch 013: | Train Loss: 0.02099 | Val Loss: 1.01989 | Train Acc: 99.268| Val Acc: 96.412\n",
      "Epoch 014: | Train Loss: 0.02016 | Val Loss: 1.70420 | Train Acc: 99.319| Val Acc: 96.506\n",
      "Epoch 015: | Train Loss: 0.01783 | Val Loss: 1.02502 | Train Acc: 99.404| Val Acc: 96.519\n",
      "Epoch 016: | Train Loss: 0.01730 | Val Loss: 1.10259 | Train Acc: 99.416| Val Acc: 96.369\n",
      "Epoch 017: | Train Loss: 0.01557 | Val Loss: 1.08580 | Train Acc: 99.456| Val Acc: 96.581\n",
      "Epoch 018: | Train Loss: 0.01469 | Val Loss: 0.71794 | Train Acc: 99.499| Val Acc: 96.381\n",
      "Epoch 019: | Train Loss: 0.01353 | Val Loss: 0.90592 | Train Acc: 99.550| Val Acc: 96.406\n",
      "Epoch 020: | Train Loss: 0.01233 | Val Loss: 0.99587 | Train Acc: 99.583| Val Acc: 96.338\n",
      "Epoch 021: | Train Loss: 0.01202 | Val Loss: 0.97118 | Train Acc: 99.598| Val Acc: 96.506\n",
      "Epoch 022: | Train Loss: 0.01200 | Val Loss: 0.96579 | Train Acc: 99.632| Val Acc: 96.444\n",
      "Epoch 023: | Train Loss: 0.01046 | Val Loss: 0.81176 | Train Acc: 99.657| Val Acc: 96.300\n",
      "Epoch 024: | Train Loss: 0.01027 | Val Loss: 0.80426 | Train Acc: 99.673| Val Acc: 96.444\n",
      "Epoch 025: | Train Loss: 0.00950 | Val Loss: 0.73155 | Train Acc: 99.692| Val Acc: 96.475\n",
      "Epoch 026: | Train Loss: 0.00941 | Val Loss: 1.84765 | Train Acc: 99.714| Val Acc: 96.438\n",
      "Epoch 027: | Train Loss: 0.00864 | Val Loss: 0.83684 | Train Acc: 99.721| Val Acc: 96.225\n",
      "Epoch 028: | Train Loss: 0.00808 | Val Loss: 0.87738 | Train Acc: 99.743| Val Acc: 95.838\n",
      "Epoch 029: | Train Loss: 0.00754 | Val Loss: 0.71148 | Train Acc: 99.741| Val Acc: 96.594\n",
      "Epoch 030: | Train Loss: 0.00764 | Val Loss: 0.74604 | Train Acc: 99.757| Val Acc: 96.219\n",
      "Epoch 031: | Train Loss: 0.00744 | Val Loss: 0.82273 | Train Acc: 99.749| Val Acc: 96.662\n",
      "Epoch 032: | Train Loss: 0.00657 | Val Loss: 0.81865 | Train Acc: 99.790| Val Acc: 96.694\n",
      "Epoch 033: | Train Loss: 0.00654 | Val Loss: 0.88643 | Train Acc: 99.779| Val Acc: 96.550\n",
      "Epoch 034: | Train Loss: 0.00648 | Val Loss: 0.80547 | Train Acc: 99.787| Val Acc: 96.656\n",
      "Epoch 035: | Train Loss: 0.00654 | Val Loss: 0.74443 | Train Acc: 99.798| Val Acc: 96.569\n",
      "Epoch 036: | Train Loss: 0.00569 | Val Loss: 0.81156 | Train Acc: 99.830| Val Acc: 96.706\n",
      "Epoch 037: | Train Loss: 0.00623 | Val Loss: 1.00325 | Train Acc: 99.800| Val Acc: 96.325\n",
      "Epoch 038: | Train Loss: 0.00603 | Val Loss: 0.93067 | Train Acc: 99.815| Val Acc: 96.537\n",
      "Epoch 039: | Train Loss: 0.00531 | Val Loss: 1.03104 | Train Acc: 99.836| Val Acc: 96.581\n",
      "Epoch 040: | Train Loss: 0.00540 | Val Loss: 1.06213 | Train Acc: 99.821| Val Acc: 96.138\n",
      "Epoch 041: | Train Loss: 0.00513 | Val Loss: 0.90087 | Train Acc: 99.849| Val Acc: 96.550\n",
      "Epoch 042: | Train Loss: 0.00479 | Val Loss: 1.00851 | Train Acc: 99.842| Val Acc: 96.769\n",
      "Epoch 043: | Train Loss: 0.00518 | Val Loss: 0.99220 | Train Acc: 99.852| Val Acc: 96.481\n",
      "Epoch 044: | Train Loss: 0.00467 | Val Loss: 0.70061 | Train Acc: 99.850| Val Acc: 96.506\n",
      "Epoch 045: | Train Loss: 0.00489 | Val Loss: 0.76383 | Train Acc: 99.850| Val Acc: 96.719\n",
      "Epoch 046: | Train Loss: 0.00476 | Val Loss: 0.97113 | Train Acc: 99.855| Val Acc: 96.675\n",
      "Epoch 047: | Train Loss: 0.00477 | Val Loss: 0.71315 | Train Acc: 99.851| Val Acc: 96.825\n",
      "Epoch 048: | Train Loss: 0.00514 | Val Loss: 0.78307 | Train Acc: 99.871| Val Acc: 96.425\n",
      "Epoch 049: | Train Loss: 0.00413 | Val Loss: 0.91424 | Train Acc: 99.879| Val Acc: 96.713\n",
      "Epoch 050: | Train Loss: 0.00415 | Val Loss: 0.84226 | Train Acc: 99.877| Val Acc: 96.669\n",
      "\n"
     ]
    }
   ],
   "source": [
    "\n",
    "for e in tqdm(range(1, EPOCHS+1)):\n",
    "    \n",
    "    # TRAINING\n",
    "    train_epoch_loss = 0\n",
    "    train_epoch_acc = 0\n",
    "    model.train()\n",
    "    for X_train_batch, y_train_batch in train_loader:\n",
    "        X_train_batch, y_train_batch = X_train_batch.to(device), y_train_batch.to(device)\n",
    "        optimizer.zero_grad()\n",
    "        \n",
    "        y_train_pred = model(X_train_batch)\n",
    "        \n",
    "        train_loss = criterion(y_train_pred, y_train_batch)\n",
    "        train_acc =  multi_acc(y_train_pred, y_train_batch)\n",
    "        \n",
    "        train_loss.backward()\n",
    "        optimizer.step()\n",
    "        \n",
    "        train_epoch_loss += train_loss.item()\n",
    "        train_epoch_acc += train_acc.item()\n",
    "        \n",
    "        \n",
    "    # VALIDATION    \n",
    "    with torch.no_grad():\n",
    "        \n",
    "        val_epoch_loss = 0\n",
    "        val_epoch_acc = 0\n",
    "        \n",
    "        model.eval()\n",
    "        for X_val_batch, y_val_batch in val_loader:\n",
    "            X_val_batch, y_val_batch = X_val_batch.to(device), y_val_batch.to(device)\n",
    "            \n",
    "            y_val_pred = model(X_val_batch)\n",
    "                        \n",
    "            val_loss = criterion(y_val_pred, y_val_batch)\n",
    "            val_acc = multi_acc(y_val_pred, y_val_batch)\n",
    "            \n",
    "            val_epoch_loss += val_loss.item()\n",
    "            val_epoch_acc += val_acc.item()\n",
    "    loss_stats['train'].append(train_epoch_loss/len(train_loader))\n",
    "    loss_stats['val'].append(val_epoch_loss/len(val_loader))\n",
    "    accuracy_stats['train'].append(train_epoch_acc/len(train_loader))\n",
    "    accuracy_stats['val'].append(val_epoch_acc/len(val_loader))\n",
    "                              \n",
    "    \n",
    "    print(f'Epoch {e+0:03}: | Train Loss: {train_epoch_loss/len(train_loader):.5f} | Val Loss: {val_epoch_loss/len(val_loader):.5f} | Train Acc: {train_epoch_acc/len(train_loader):.3f}| Val Acc: {val_epoch_acc/len(val_loader):.3f}')\n"
   ]
  },
  {
   "cell_type": "code",
   "execution_count": 19,
   "metadata": {},
   "outputs": [],
   "source": [
    "torch.save(model.state_dict(), os.path.join(ember2018,'detection.pth'))"
   ]
  },
  {
   "cell_type": "code",
   "execution_count": 18,
   "metadata": {},
   "outputs": [
    {
     "data": {
      "text/plain": [
       "'../Dataset/ember_zip/ember2018/detection.pth'"
      ]
     },
     "execution_count": 18,
     "metadata": {},
     "output_type": "execute_result"
    }
   ],
   "source": [
    "os.path.join(ember2018,'detection.pth')"
   ]
  },
  {
   "cell_type": "code",
   "execution_count": 30,
   "metadata": {},
   "outputs": [
    {
     "name": "stdout",
     "output_type": "stream",
     "text": [
      "classification.pth  sorel_label.csv\t   test-features.npz\r\n",
      "db\t\t    sorel_label_sum25.csv  validation-features.npz\r\n",
      "meta.db\t\t    sorel_malware1.csv\r\n",
      "sorel_data.npz\t    sorel_malware.csv\r\n"
     ]
    }
   ],
   "source": [
    "!ls ../Dataset/sorel/"
   ]
  },
  {
   "cell_type": "code",
   "execution_count": 20,
   "metadata": {},
   "outputs": [
    {
     "data": {
      "text/plain": [
       "Text(0.5, 1.0, 'Train-Val Loss/Epoch')"
      ]
     },
     "execution_count": 20,
     "metadata": {},
     "output_type": "execute_result"
    },
    {
     "data": {
      "image/png": "[encoded data removed]",
      "text/plain": [
       "<Figure size 1440x504 with 2 Axes>"
      ]
     },
     "metadata": {
      "needs_background": "light"
     },
     "output_type": "display_data"
    }
   ],
   "source": [
    "# Create dataframes\n",
    "train_val_acc_df = pd.DataFrame.from_dict(accuracy_stats).reset_index().melt(id_vars=['index']).rename(columns={\"index\":\"epochs\"})\n",
    "train_val_loss_df = pd.DataFrame.from_dict(loss_stats).reset_index().melt(id_vars=['index']).rename(columns={\"index\":\"epochs\"})\n",
    "# Plot the dataframes\n",
    "fig, axes = plt.subplots(nrows=1, ncols=2, figsize=(20,7))\n",
    "sns.lineplot(data=train_val_acc_df, x = \"epochs\", y=\"value\", hue=\"variable\",  ax=axes[0]).set_title('Train-Val Accuracy/Epoch')\n",
    "sns.lineplot(data=train_val_loss_df, x = \"epochs\", y=\"value\", hue=\"variable\", ax=axes[1]).set_title('Train-Val Loss/Epoch')"
   ]
  },
  {
   "cell_type": "code",
   "execution_count": 21,
   "metadata": {},
   "outputs": [],
   "source": [
    "y_pred_list = []\n",
    "y_prob_list = []\n",
    "with torch.no_grad():\n",
    "    model.eval()\n",
    "    for X_batch, _ in test_loader:\n",
    "        X_batch = X_batch.to(device)\n",
    "        y_test_pred = model(X_batch)\n",
    "        _, y_pred_tags = torch.max(y_test_pred, dim = 1)\n",
    "         \n",
    "        y_pred_list.append(y_pred_tags.cpu().numpy())\n",
    "        y_prob_list.append(y_test_pred)\n",
    "        \n",
    "        \n",
    "y_pred_list = [a.squeeze().tolist() for a in y_pred_list]\n"
   ]
  },
  {
   "cell_type": "code",
   "execution_count": 33,
   "metadata": {},
   "outputs": [
    {
     "data": {
      "text/plain": [
       "(tensor([[-15.1259, -23.0870, -25.0988, -23.7968, -21.3749, -21.3992, -19.6963,\n",
       "          -17.8799,   5.0449, -22.6265, -18.0614]], device='cuda:0'),\n",
       " 8)"
      ]
     },
     "execution_count": 33,
     "metadata": {},
     "output_type": "execute_result"
    }
   ],
   "source": [
    "y_prob_list[0],y_pred_list[0]"
   ]
  },
  {
   "cell_type": "code",
   "execution_count": 22,
   "metadata": {},
   "outputs": [
    {
     "data": {
      "text/plain": [
       "array([0, 1, 1, ..., 0, 0, 1])"
      ]
     },
     "execution_count": 22,
     "metadata": {},
     "output_type": "execute_result"
    }
   ],
   "source": [
    "y_test.astype('long')"
   ]
  },
  {
   "cell_type": "code",
   "execution_count": 23,
   "metadata": {},
   "outputs": [
    {
     "data": {
      "text/plain": [
       "<matplotlib.axes._subplots.AxesSubplot at 0x2b055b096b70>"
      ]
     },
     "execution_count": 23,
     "metadata": {},
     "output_type": "execute_result"
    },
    {
     "data": {
      "image/png": "[encoded data removed]",
      "text/plain": [
       "<Figure size 432x288 with 2 Axes>"
      ]
     },
     "metadata": {
      "needs_background": "light"
     },
     "output_type": "display_data"
    }
   ],
   "source": [
    "confusion_matrix_df = pd.DataFrame(confusion_matrix(y_test.astype('long'), y_pred_list))\n",
    "\n",
    "sns.heatmap(confusion_matrix_df, annot=True)"
   ]
  },
  {
   "cell_type": "code",
   "execution_count": 24,
   "metadata": {},
   "outputs": [
    {
     "data": {
      "text/html": [
       "<div>\n",
       "<style scoped>\n",
       "    .dataframe tbody tr th:only-of-type {\n",
       "        vertical-align: middle;\n",
       "    }\n",
       "\n",
       "    .dataframe tbody tr th {\n",
       "        vertical-align: top;\n",
       "    }\n",
       "\n",
       "    .dataframe thead th {\n",
       "        text-align: right;\n",
       "    }\n",
       "</style>\n",
       "<table border=\"1\" class=\"dataframe\">\n",
       "  <thead>\n",
       "    <tr style=\"text-align: right;\">\n",
       "      <th></th>\n",
       "      <th>0</th>\n",
       "      <th>1</th>\n",
       "    </tr>\n",
       "  </thead>\n",
       "  <tbody>\n",
       "    <tr>\n",
       "      <th>0</th>\n",
       "      <td>19391</td>\n",
       "      <td>609</td>\n",
       "    </tr>\n",
       "    <tr>\n",
       "      <th>1</th>\n",
       "      <td>669</td>\n",
       "      <td>19331</td>\n",
       "    </tr>\n",
       "  </tbody>\n",
       "</table>\n",
       "</div>"
      ],
      "text/plain": [
       "       0      1\n",
       "0  19391    609\n",
       "1    669  19331"
      ]
     },
     "execution_count": 24,
     "metadata": {},
     "output_type": "execute_result"
    }
   ],
   "source": [
    "confusion_matrix_df"
   ]
  },
  {
   "cell_type": "code",
   "execution_count": 25,
   "metadata": {},
   "outputs": [
    {
     "name": "stdout",
     "output_type": "stream",
     "text": [
      "              precision    recall  f1-score   support\n",
      "\n",
      "           0       0.97      0.97      0.97     20000\n",
      "           1       0.97      0.97      0.97     20000\n",
      "\n",
      "    accuracy                           0.97     40000\n",
      "   macro avg       0.97      0.97      0.97     40000\n",
      "weighted avg       0.97      0.97      0.97     40000\n",
      "\n"
     ]
    }
   ],
   "source": [
    "print(classification_report(y_test.astype('long'), y_pred_list))\n"
   ]
  },
  {
   "cell_type": "code",
   "execution_count": 36,
   "metadata": {},
   "outputs": [],
   "source": []
  },
  {
   "cell_type": "code",
   "execution_count": 35,
   "metadata": {},
   "outputs": [],
   "source": []
  },
  {
   "cell_type": "code",
   "execution_count": 64,
   "metadata": {},
   "outputs": [],
   "source": []
  }
 ],
 "metadata": {
  "kernelspec": {
   "display_name": "Python 3",
   "language": "python",
   "name": "python3"
  },
  "language_info": {
   "codemirror_mode": {
    "name": "ipython",
    "version": 3
   },
   "file_extension": ".py",
   "mimetype": "text/x-python",
   "name": "python",
   "nbconvert_exporter": "python",
   "pygments_lexer": "ipython3",
   "version": "3.6.10"
  }
 },
 "nbformat": 4,
 "nbformat_minor": 4
}
