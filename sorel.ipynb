{
 "cells": [
  {
   "cell_type": "markdown",
   "metadata": {},
   "source": [
    "<h2> Sorel Data Preprocessing To get the Features </h2>"
   ]
  },
  {
   "cell_type": "code",
   "execution_count": 23,
   "metadata": {},
   "outputs": [],
   "source": [
    "import tqdm\n",
    "import lmdb\n",
    "import json\n",
    "import numpy as np\n",
    "import pandas as pd\n",
    "import sqlite3\n",
    "import os\n",
    "import msgpack\n",
    "import zlib\n",
    "import tqdm\n",
    "import pandas as pd\n",
    "import seaborn as sns\n",
    "from tabulate import tabulate"
   ]
  },
  {
   "cell_type": "markdown",
   "metadata": {},
   "source": [
    "<h4> Make sure 'data.mdb' and   'lock.mdb' files present in sorel_lmdb </h4>\n",
    "<h4> Refer this https://github.com/sophos-ai/SOREL-20M to Download these files</h4>\n",
    "<h5> 'meta.db' 3.5GB file will be present in s3://sorel-20m/09-DEC-2020/processed-data </h5>\n",
    "<h5> 'data.mdb' and   'lock.mdb' will be present in s3://sorel-20m/09-DEC-2020/processed-data/ember_features with size approx  ~72GB </h5>"
   ]
  },
  {
   "cell_type": "code",
   "execution_count": 2,
   "metadata": {},
   "outputs": [
    {
     "name": "stdout",
     "output_type": "stream",
     "text": [
      "data.mdb  lock.mdb\r\n"
     ]
    }
   ],
   "source": [
    "sorel_dir = '../Dataset/sorel'\n",
    "sorel_lmdb = '../Dataset/sorel/db'\n",
    "sorel_db = '../Dataset/sorel/meta.db'\n",
    "!ls '../Dataset/sorel/db'"
   ]
  },
  {
   "cell_type": "markdown",
   "metadata": {},
   "source": [
    "<h5> Reading malware_information from db and saving it to  'sorel_malware.csv' </h5>\n",
    "<h5> If  'sorel_malware.csv' not exist run this below code </h5>\n"
   ]
  },
  {
   "cell_type": "code",
   "execution_count": 4,
   "metadata": {},
   "outputs": [],
   "source": [
    "# con = sqlite3.connect(sorel_db)\n",
    "# df = pd.read_sql_query(\"SELECT * from meta where is_malware=1\", con)\n",
    "# df.to_csv(os.path.join(sorel_dir,'sorel_malware.csv'))\n"
   ]
  },
  {
   "cell_type": "markdown",
   "metadata": {},
   "source": [
    "<h5> Load the Data from 'sorel_malware.csv'</h5>"
   ]
  },
  {
   "cell_type": "code",
   "execution_count": 24,
   "metadata": {},
   "outputs": [],
   "source": [
    "df = pd.read_csv(os.path.join(sorel_dir,'sorel_malware.csv'))\n"
   ]
  },
  {
   "cell_type": "code",
   "execution_count": 25,
   "metadata": {},
   "outputs": [
    {
     "data": {
      "text/plain": [
       "Index(['Unnamed: 0', 'sha256', 'is_malware', 'rl_fs_t',\n",
       "       'rl_ls_const_positives', 'adware', 'flooder', 'ransomware', 'dropper',\n",
       "       'spyware', 'packed', 'crypto_miner', 'file_infector', 'installer',\n",
       "       'worm', 'downloader'],\n",
       "      dtype='object')"
      ]
     },
     "execution_count": 25,
     "metadata": {},
     "output_type": "execute_result"
    }
   ],
   "source": [
    "df.columns\n"
   ]
  },
  {
   "cell_type": "markdown",
   "metadata": {},
   "source": [
    "<h4> The current datset contains 11 different classes of malware </h4>"
   ]
  },
  {
   "cell_type": "code",
   "execution_count": 26,
   "metadata": {},
   "outputs": [],
   "source": [
    "labels = ['adware', 'flooder', 'ransomware', 'dropper',\n",
    "       'spyware', 'packed', 'crypto_miner', 'file_infector', 'installer',\n",
    "       'worm', 'downloader']"
   ]
  },
  {
   "cell_type": "markdown",
   "metadata": {},
   "source": [
    "<h5> Added two extra columns sum and label. Divided the counts of each class with sum to get the probability \n",
    "of each class and label represents the class with max probability</h5>"
   ]
  },
  {
   "cell_type": "code",
   "execution_count": 27,
   "metadata": {},
   "outputs": [],
   "source": [
    "df['sum'] =df.iloc[:,5:16 ].sum(axis=1)\n",
    "for label in labels:\n",
    "    df[label]= df[label]/df['sum']\n"
   ]
  },
  {
   "cell_type": "code",
   "execution_count": 28,
   "metadata": {},
   "outputs": [],
   "source": [
    "df['label']= np.argmax(df.values[:,5:16],axis=1)"
   ]
  },
  {
   "cell_type": "code",
   "execution_count": 29,
   "metadata": {},
   "outputs": [
    {
     "data": {
      "image/png": "[encoded data removed]",
      "text/plain": [
       "<Figure size 432x288 with 1 Axes>"
      ]
     },
     "metadata": {
      "needs_background": "light"
     },
     "output_type": "display_data"
    }
   ],
   "source": [
    "data = pd.DataFrame(data=df['label'], columns=[\"label\"])\n",
    "sns.countplot(x = 'label', data=data);"
   ]
  },
  {
   "cell_type": "code",
   "execution_count": 30,
   "metadata": {},
   "outputs": [
    {
     "name": "stdout",
     "output_type": "stream",
     "text": [
      "label            sample_count\n",
      "-------------  --------------\n",
      "adware                1404601\n",
      "flooder                 27896\n",
      "ransomware             721508\n",
      "dropper               1414233\n",
      "spyware               1722713\n",
      "packed                 964299\n",
      "crypto_miner           268673\n",
      "file_infector         1063928\n",
      "installer              300247\n",
      "worm                  1265735\n",
      "downloader             808987\n"
     ]
    }
   ],
   "source": [
    "values,counts = np.unique(df['label'].values,return_counts=True)\n",
    "table = []\n",
    "for i,j in zip(labels,counts):\n",
    "    table.append([i,str(j)])\n",
    "print (tabulate(table,headers=['label', 'sample_count']))"
   ]
  },
  {
   "cell_type": "markdown",
   "metadata": {},
   "source": [
    "<h5> selected samples with detection sum > 15 and 7000 samples from each class </h5>"
   ]
  },
  {
   "cell_type": "code",
   "execution_count": 31,
   "metadata": {},
   "outputs": [],
   "source": [
    " df2 = df[df['sum']>14].groupby('label').head(10000).reset_index(drop=True)"
   ]
  },
  {
   "cell_type": "code",
   "execution_count": 32,
   "metadata": {},
   "outputs": [
    {
     "data": {
      "text/html": [
       "<div>\n",
       "<style scoped>\n",
       "    .dataframe tbody tr th:only-of-type {\n",
       "        vertical-align: middle;\n",
       "    }\n",
       "\n",
       "    .dataframe tbody tr th {\n",
       "        vertical-align: top;\n",
       "    }\n",
       "\n",
       "    .dataframe thead th {\n",
       "        text-align: right;\n",
       "    }\n",
       "</style>\n",
       "<table border=\"1\" class=\"dataframe\">\n",
       "  <thead>\n",
       "    <tr style=\"text-align: right;\">\n",
       "      <th></th>\n",
       "      <th>adware</th>\n",
       "      <th>flooder</th>\n",
       "      <th>ransomware</th>\n",
       "      <th>dropper</th>\n",
       "      <th>spyware</th>\n",
       "      <th>packed</th>\n",
       "      <th>crypto_miner</th>\n",
       "      <th>file_infector</th>\n",
       "      <th>installer</th>\n",
       "      <th>worm</th>\n",
       "      <th>downloader</th>\n",
       "      <th>sum</th>\n",
       "      <th>label</th>\n",
       "    </tr>\n",
       "  </thead>\n",
       "  <tbody>\n",
       "    <tr>\n",
       "      <th>0</th>\n",
       "      <td>0.000000</td>\n",
       "      <td>0.0</td>\n",
       "      <td>0.0</td>\n",
       "      <td>0.0</td>\n",
       "      <td>0.5</td>\n",
       "      <td>0.0</td>\n",
       "      <td>0.0</td>\n",
       "      <td>0.5</td>\n",
       "      <td>0.000000</td>\n",
       "      <td>0.0</td>\n",
       "      <td>0.000000</td>\n",
       "      <td>18</td>\n",
       "      <td>4</td>\n",
       "    </tr>\n",
       "    <tr>\n",
       "      <th>1</th>\n",
       "      <td>0.388889</td>\n",
       "      <td>0.0</td>\n",
       "      <td>0.0</td>\n",
       "      <td>0.0</td>\n",
       "      <td>0.0</td>\n",
       "      <td>0.0</td>\n",
       "      <td>0.0</td>\n",
       "      <td>0.0</td>\n",
       "      <td>0.611111</td>\n",
       "      <td>0.0</td>\n",
       "      <td>0.000000</td>\n",
       "      <td>18</td>\n",
       "      <td>8</td>\n",
       "    </tr>\n",
       "    <tr>\n",
       "      <th>2</th>\n",
       "      <td>0.388889</td>\n",
       "      <td>0.0</td>\n",
       "      <td>0.0</td>\n",
       "      <td>0.0</td>\n",
       "      <td>0.0</td>\n",
       "      <td>0.0</td>\n",
       "      <td>0.0</td>\n",
       "      <td>0.0</td>\n",
       "      <td>0.611111</td>\n",
       "      <td>0.0</td>\n",
       "      <td>0.000000</td>\n",
       "      <td>18</td>\n",
       "      <td>8</td>\n",
       "    </tr>\n",
       "    <tr>\n",
       "      <th>3</th>\n",
       "      <td>0.388889</td>\n",
       "      <td>0.0</td>\n",
       "      <td>0.0</td>\n",
       "      <td>0.0</td>\n",
       "      <td>0.0</td>\n",
       "      <td>0.0</td>\n",
       "      <td>0.0</td>\n",
       "      <td>0.0</td>\n",
       "      <td>0.611111</td>\n",
       "      <td>0.0</td>\n",
       "      <td>0.000000</td>\n",
       "      <td>18</td>\n",
       "      <td>8</td>\n",
       "    </tr>\n",
       "    <tr>\n",
       "      <th>4</th>\n",
       "      <td>0.368421</td>\n",
       "      <td>0.0</td>\n",
       "      <td>0.0</td>\n",
       "      <td>0.0</td>\n",
       "      <td>0.0</td>\n",
       "      <td>0.0</td>\n",
       "      <td>0.0</td>\n",
       "      <td>0.0</td>\n",
       "      <td>0.631579</td>\n",
       "      <td>0.0</td>\n",
       "      <td>0.000000</td>\n",
       "      <td>19</td>\n",
       "      <td>8</td>\n",
       "    </tr>\n",
       "    <tr>\n",
       "      <th>5</th>\n",
       "      <td>0.533333</td>\n",
       "      <td>0.0</td>\n",
       "      <td>0.0</td>\n",
       "      <td>0.0</td>\n",
       "      <td>0.0</td>\n",
       "      <td>0.0</td>\n",
       "      <td>0.0</td>\n",
       "      <td>0.0</td>\n",
       "      <td>0.466667</td>\n",
       "      <td>0.0</td>\n",
       "      <td>0.000000</td>\n",
       "      <td>15</td>\n",
       "      <td>0</td>\n",
       "    </tr>\n",
       "    <tr>\n",
       "      <th>6</th>\n",
       "      <td>0.578947</td>\n",
       "      <td>0.0</td>\n",
       "      <td>0.0</td>\n",
       "      <td>0.0</td>\n",
       "      <td>0.0</td>\n",
       "      <td>0.0</td>\n",
       "      <td>0.0</td>\n",
       "      <td>0.0</td>\n",
       "      <td>0.421053</td>\n",
       "      <td>0.0</td>\n",
       "      <td>0.000000</td>\n",
       "      <td>19</td>\n",
       "      <td>0</td>\n",
       "    </tr>\n",
       "    <tr>\n",
       "      <th>7</th>\n",
       "      <td>0.437500</td>\n",
       "      <td>0.0</td>\n",
       "      <td>0.0</td>\n",
       "      <td>0.0</td>\n",
       "      <td>0.0</td>\n",
       "      <td>0.0</td>\n",
       "      <td>0.0</td>\n",
       "      <td>0.0</td>\n",
       "      <td>0.562500</td>\n",
       "      <td>0.0</td>\n",
       "      <td>0.000000</td>\n",
       "      <td>16</td>\n",
       "      <td>8</td>\n",
       "    </tr>\n",
       "    <tr>\n",
       "      <th>8</th>\n",
       "      <td>0.400000</td>\n",
       "      <td>0.0</td>\n",
       "      <td>0.0</td>\n",
       "      <td>0.0</td>\n",
       "      <td>0.0</td>\n",
       "      <td>0.0</td>\n",
       "      <td>0.0</td>\n",
       "      <td>0.0</td>\n",
       "      <td>0.533333</td>\n",
       "      <td>0.0</td>\n",
       "      <td>0.066667</td>\n",
       "      <td>15</td>\n",
       "      <td>8</td>\n",
       "    </tr>\n",
       "    <tr>\n",
       "      <th>9</th>\n",
       "      <td>0.368421</td>\n",
       "      <td>0.0</td>\n",
       "      <td>0.0</td>\n",
       "      <td>0.0</td>\n",
       "      <td>0.0</td>\n",
       "      <td>0.0</td>\n",
       "      <td>0.0</td>\n",
       "      <td>0.0</td>\n",
       "      <td>0.631579</td>\n",
       "      <td>0.0</td>\n",
       "      <td>0.000000</td>\n",
       "      <td>19</td>\n",
       "      <td>8</td>\n",
       "    </tr>\n",
       "  </tbody>\n",
       "</table>\n",
       "</div>"
      ],
      "text/plain": [
       "     adware  flooder  ransomware  dropper  spyware  packed  crypto_miner  \\\n",
       "0  0.000000      0.0         0.0      0.0      0.5     0.0           0.0   \n",
       "1  0.388889      0.0         0.0      0.0      0.0     0.0           0.0   \n",
       "2  0.388889      0.0         0.0      0.0      0.0     0.0           0.0   \n",
       "3  0.388889      0.0         0.0      0.0      0.0     0.0           0.0   \n",
       "4  0.368421      0.0         0.0      0.0      0.0     0.0           0.0   \n",
       "5  0.533333      0.0         0.0      0.0      0.0     0.0           0.0   \n",
       "6  0.578947      0.0         0.0      0.0      0.0     0.0           0.0   \n",
       "7  0.437500      0.0         0.0      0.0      0.0     0.0           0.0   \n",
       "8  0.400000      0.0         0.0      0.0      0.0     0.0           0.0   \n",
       "9  0.368421      0.0         0.0      0.0      0.0     0.0           0.0   \n",
       "\n",
       "   file_infector  installer  worm  downloader  sum  label  \n",
       "0            0.5   0.000000   0.0    0.000000   18      4  \n",
       "1            0.0   0.611111   0.0    0.000000   18      8  \n",
       "2            0.0   0.611111   0.0    0.000000   18      8  \n",
       "3            0.0   0.611111   0.0    0.000000   18      8  \n",
       "4            0.0   0.631579   0.0    0.000000   19      8  \n",
       "5            0.0   0.466667   0.0    0.000000   15      0  \n",
       "6            0.0   0.421053   0.0    0.000000   19      0  \n",
       "7            0.0   0.562500   0.0    0.000000   16      8  \n",
       "8            0.0   0.533333   0.0    0.066667   15      8  \n",
       "9            0.0   0.631579   0.0    0.000000   19      8  "
      ]
     },
     "execution_count": 32,
     "metadata": {},
     "output_type": "execute_result"
    }
   ],
   "source": [
    "df2.iloc[:,5:18][:10]"
   ]
  },
  {
   "cell_type": "code",
   "execution_count": 33,
   "metadata": {
    "scrolled": true
   },
   "outputs": [
    {
     "data": {
      "text/plain": [
       "(109481, 18)"
      ]
     },
     "execution_count": 33,
     "metadata": {},
     "output_type": "execute_result"
    }
   ],
   "source": [
    "df2.shape"
   ]
  },
  {
   "cell_type": "markdown",
   "metadata": {},
   "source": [
    "<h5> Saving the selected samples with prob.scores and label to sorel_label.csv for future use </h5>"
   ]
  },
  {
   "cell_type": "code",
   "execution_count": 18,
   "metadata": {},
   "outputs": [],
   "source": [
    "df2.to_csv(os.path.join(sorel_dir,'sorel_label.csv'))\n"
   ]
  },
  {
   "cell_type": "markdown",
   "metadata": {},
   "source": [
    "<h5> Load sample data from  sorel_label.csv </h5>"
   ]
  },
  {
   "cell_type": "code",
   "execution_count": 19,
   "metadata": {},
   "outputs": [],
   "source": [
    "df2 = pd.read_csv(os.path.join(sorel_dir,'sorel_label.csv')).iloc[:,1:]"
   ]
  },
  {
   "cell_type": "code",
   "execution_count": 12,
   "metadata": {},
   "outputs": [
    {
     "data": {
      "text/plain": [
       "(109481, 18)"
      ]
     },
     "execution_count": 12,
     "metadata": {},
     "output_type": "execute_result"
    }
   ],
   "source": [
    "df2.shape"
   ]
  },
  {
   "cell_type": "code",
   "execution_count": 25,
   "metadata": {},
   "outputs": [
    {
     "data": {
      "text/plain": [
       "(9481, 18)"
      ]
     },
     "execution_count": 25,
     "metadata": {},
     "output_type": "execute_result"
    }
   ],
   "source": [
    "df2.values[np.where(df2.values[:,-1]==1)]"
   ]
  },
  {
   "cell_type": "markdown",
   "metadata": {},
   "source": [
    "<h5> Get featutes Corressponds to each sample from lmdb database using sha256 Key </h5>\n",
    "<h5> and save feature in data array and coresponding labels in y array </h5>\n",
    "<h5> Some entry feature may not present in the db, igonre these samples </h5>"
   ]
  },
  {
   "cell_type": "code",
   "execution_count": 26,
   "metadata": {},
   "outputs": [
    {
     "name": "stderr",
     "output_type": "stream",
     "text": [
      "100%|██████████| 9481/9481 [07:34<00:00, 20.85it/s]\n"
     ]
    }
   ],
   "source": [
    "env = lmdb.Environment(sorel_lmdb, readonly=True, map_size=1e13, max_readers=1024)\n",
    "\n",
    "x =None\n",
    "D = None\n",
    "count = 0\n",
    "with env.begin(write=False) as txn:\n",
    "    for d in tqdm.tqdm((df2.values[np.where(df2.values[:,-1]==1)])):\n",
    "        x = txn.get(d[1].encode('ascii'))\n",
    "        if x:\n",
    "            count = count+1\n",
    "            x = msgpack.loads(zlib.decompress(x),strict_map_key=False)\n",
    "            data = np.append(data,np.array([x[0]]),axis=0)\n",
    "            y = np.append(y,np.array([d[5:]]),axis=0)\n",
    "\n",
    "            \n",
    "        if count%1000==0:\n",
    "            np.savez(os.path.join(sorel_dir,'sorel_data.npz'), data, y)\n",
    "np.savez(os.path.join(sorel_dir,'sorel_data.npz'), data, y)"
   ]
  },
  {
   "cell_type": "code",
   "execution_count": 27,
   "metadata": {},
   "outputs": [
    {
     "name": "stderr",
     "output_type": "stream",
     "text": [
      "100%|██████████| 10000/10000 [19:09<00:00,  8.70it/s]\n"
     ]
    }
   ],
   "source": [
    "env = lmdb.Environment(sorel_lmdb, readonly=True, map_size=1e13, max_readers=1024)\n",
    "\n",
    "x =None\n",
    "D = None\n",
    "count = 0\n",
    "with env.begin(write=False) as txn:\n",
    "    for d in tqdm.tqdm((df2.values[np.where(df2.values[:,-1]==3)])):\n",
    "        x = txn.get(d[1].encode('ascii'))\n",
    "        if x:\n",
    "            count = count+1\n",
    "            x = msgpack.loads(zlib.decompress(x),strict_map_key=False)\n",
    "            data = np.append(data,np.array([x[0]]),axis=0)\n",
    "            y = np.append(y,np.array([d[5:]]),axis=0)\n",
    "\n",
    "            \n",
    "        if count%1000==0:\n",
    "            np.savez(os.path.join(sorel_dir,'sorel_data.npz'), data, y)\n",
    "np.savez(os.path.join(sorel_dir,'sorel_data.npz'), data, y)"
   ]
  },
  {
   "cell_type": "code",
   "execution_count": 28,
   "metadata": {},
   "outputs": [
    {
     "name": "stderr",
     "output_type": "stream",
     "text": [
      "100%|██████████| 10000/10000 [31:25<00:00,  5.30it/s] \n"
     ]
    }
   ],
   "source": [
    "\n",
    "env = lmdb.Environment(sorel_lmdb, readonly=True, map_size=1e13, max_readers=1024)\n",
    "\n",
    "x =None\n",
    "D = None\n",
    "count = 0\n",
    "with env.begin(write=False) as txn:\n",
    "    for d in tqdm.tqdm((df2.values[np.where(df2.values[:,-1]==6)])):\n",
    "        x = txn.get(d[1].encode('ascii'))b\n",
    "        if x:\n",
    "            count = count+1\n",
    "            x = msgpack.loads(zlib.decompress(x),strict_map_key=False)\n",
    "            data = np.append(data,np.array([x[0]]),axis=0)\n",
    "            y = np.append(y,np.array([d[5:]]),axis=0)\n",
    "\n",
    "            \n",
    "        if count%1000==0:\n",
    "            np.savez(os.path.join(sorel_dir,'sorel_data.npz'), data, y)\n",
    "np.savez(os.path.join(sorel_dir,'sorel_data.npz'), data, y)"
   ]
  },
  {
   "cell_type": "code",
   "execution_count": 34,
   "metadata": {},
   "outputs": [
    {
     "data": {
      "text/plain": [
       "(91746, 2381)"
      ]
     },
     "execution_count": 34,
     "metadata": {},
     "output_type": "execute_result"
    }
   ],
   "source": [
    "npzfile = np.load(os.path.join(sorel_dir,'sorel_data.npz'),allow_pickle=True)\n",
    "data,y = npzfile['arr_0'],npzfile['arr_1']\n",
    "data.shape"
   ]
  },
  {
   "cell_type": "code",
   "execution_count": 35,
   "metadata": {},
   "outputs": [
    {
     "data": {
      "text/plain": [
       "(array([0, 2, 4, 5], dtype=object), array([10000, 10000, 10000, 10000]))"
      ]
     },
     "execution_count": 35,
     "metadata": {},
     "output_type": "execute_result"
    }
   ],
   "source": [
    "df22 = df2.values[np.where(df2.values[:,-1]!=1)]\n",
    "df22 = df22[np.where(df22[:,-1]!=3)]\n",
    "df22 = df22[np.where(df22[:,-1]!=6)]\n",
    "df22 = df22[np.where(df22[:,-1]!=7)]\n",
    "df22 = df22[np.where(df22[:,-1]!=8)]\n",
    "df22 = df22[np.where(df22[:,-1]!=9)]\n",
    "df22 = df22[np.where(df22[:,-1]!=10)]\n",
    "df22.shape\n",
    "np.unique(df22[:,-1],return_counts=True)"
   ]
  },
  {
   "cell_type": "code",
   "execution_count": null,
   "metadata": {},
   "outputs": [
    {
     "name": "stderr",
     "output_type": "stream",
     "text": [
      " 83%|████████▎ | 13229/16000 [3:16:04<51:54,  1.12s/it]  "
     ]
    }
   ],
   "source": [
    "\n",
    "env = lmdb.Environment(sorel_lmdb, readonly=True, map_size=1e13, max_readers=1024)\n",
    "\n",
    "x =None\n",
    "D = None\n",
    "count = 0\n",
    "with env.begin(write=False) as txn:\n",
    "    for d in tqdm.tqdm(df22[24000:]):\n",
    "        x = txn.get(d[1].encode('ascii'))\n",
    "        if x:\n",
    "            count = count+1\n",
    "            x = msgpack.loads(zlib.decompress(x),strict_map_key=False)\n",
    "            data = np.append(data,np.array([x[0]]),axis=0)\n",
    "            y = np.append(y,np.array([d[5:]]),axis=0)\n",
    "\n",
    "\n",
    "        if count%1000==0:\n",
    "            np.savez(os.path.join(sorel_dir,'sorel_data.npz'), data, y)\n",
    "np.savez(os.path.join(sorel_dir,'sorel_data.npz'), data, y)"
   ]
  },
  {
   "cell_type": "code",
   "execution_count": null,
   "metadata": {},
   "outputs": [],
   "source": [
    "npzfile = np.load(os.path.join(sorel_dir,'sorel_data.npz'),allow_pickle=True)\n",
    "data,y = npzfile['arr_0'],npzfile['arr_1']\n",
    "arr = [4,5]\n",
    "for val in arr:\n",
    "    env = lmdb.Environment(sorel_lmdb, readonly=True, map_size=1e13, max_readers=1024)\n",
    "\n",
    "    x =None\n",
    "    D = None\n",
    "    count = 0\n",
    "    with env.begin(write=False) as txn:\n",
    "        for d in tqdm.tqdm((df2.values[np.where(df2.values[:,-1]==val)])):\n",
    "            x = txn.get(d[1].encode('ascii'))\n",
    "            if x:\n",
    "                count = count+1\n",
    "                x = msgpack.loads(zlib.decompress(x),strict_map_key=False)\n",
    "                data = np.append(data,np.array([x[0]]),axis=0)\n",
    "                y = np.append(y,np.array([d[5:]]),axis=0)\n",
    "\n",
    "\n",
    "            if count%1000==0:\n",
    "                np.savez(os.path.join(sorel_dir,'sorel_data.npz'), data, y)\n",
    "    np.savez(os.path.join(sorel_dir,'sorel_data.npz'), data, y)"
   ]
  },
  {
   "cell_type": "code",
   "execution_count": null,
   "metadata": {},
   "outputs": [],
   "source": [
    "npzfile = np.load(os.path.join(sorel_dir,'sorel_data.npz'),allow_pickle=True)\n",
    "data,y = npzfile['arr_0'],npzfile['arr_1']\n",
    "arr = [7,8]\n",
    "for val in arr:\n",
    "    env = lmdb.Environment(sorel_lmdb, readonly=True, map_size=1e13, max_readers=1024)\n",
    "\n",
    "    x =None\n",
    "    D = None\n",
    "    count = 0\n",
    "    with env.begin(write=False) as txn:\n",
    "        for d in tqdm.tqdm((df2.values[np.where(df2.values[:,-1]==val)])):\n",
    "            x = txn.get(d[1].encode('ascii'))\n",
    "            if x:\n",
    "                count = count+1\n",
    "                x = msgpack.loads(zlib.decompress(x),strict_map_key=False)\n",
    "                data = np.append(data,np.array([x[0]]),axis=0)\n",
    "                y = np.append(y,np.array([d[5:]]),axis=0)\n",
    "\n",
    "\n",
    "            if count%1000==0:\n",
    "                np.savez(os.path.join(sorel_dir,'sorel_data.npz'), data, y)\n",
    "    np.savez(os.path.join(sorel_dir,'sorel_data.npz'), data, y)"
   ]
  },
  {
   "cell_type": "code",
   "execution_count": null,
   "metadata": {},
   "outputs": [],
   "source": [
    "npzfile = np.load(os.path.join(sorel_dir,'sorel_data.npz'),allow_pickle=True)\n",
    "data,y = npzfile['arr_0'],npzfile['arr_1']\n",
    "arr = [9,10]\n",
    "for val in arr:\n",
    "    env = lmdb.Environment(sorel_lmdb, readonly=True, map_size=1e13, max_readers=1024)\n",
    "\n",
    "    x =None\n",
    "    D = None\n",
    "    count = 0\n",
    "    with env.begin(write=False) as txn:\n",
    "        for d in tqdm.tqdm((df2.values[np.where(df2.values[:,-1]==val)])):\n",
    "            x = txn.get(d[1].encode('ascii'))\n",
    "            if x:\n",
    "                count = count+1\n",
    "                x = msgpack.loads(zlib.decompress(x),strict_map_key=False)\n",
    "                data = np.append(data,np.array([x[0]]),axis=0)\n",
    "                y = np.append(y,np.array([d[5:]]),axis=0)\n",
    "\n",
    "\n",
    "            if count%1000==0:\n",
    "                np.savez(os.path.join(sorel_dir,'sorel_data.npz'), data, y)\n",
    "    np.savez(os.path.join(sorel_dir,'sorel_data.npz'), data, y)"
   ]
  },
  {
   "cell_type": "code",
   "execution_count": null,
   "metadata": {},
   "outputs": [],
   "source": [
    "arr = [7,8,9,10]\n",
    "for val in arr:\n",
    "    env = lmdb.Environment(sorel_lmdb, readonly=True, map_size=1e13, max_readers=1024)\n",
    "\n",
    "    x =None\n",
    "    D = None\n",
    "    count = 0\n",
    "    with env.begin(write=False) as txn:\n",
    "        for d in tqdm.tqdm((df2.values[np.where(df2.values[:,-1]==val)])):\n",
    "            x = txn.get(d[1].encode('ascii'))\n",
    "            if x:\n",
    "                count = count+1\n",
    "                x = msgpack.loads(zlib.decompress(x),strict_map_key=False)\n",
    "                data = np.append(data,np.array([x[0]]),axis=0)\n",
    "                y = np.append(y,np.array([d[5:]]),axis=0)\n",
    "\n",
    "\n",
    "            if count%1000==0:\n",
    "                np.savez(os.path.join(sorel_dir,'sorel_data.npz'), data, y)\n",
    "    np.savez(os.path.join(sorel_dir,'sorel_data.npz'), data, y)"
   ]
  },
  {
   "cell_type": "markdown",
   "metadata": {},
   "source": [
    "<h5> It is taking almost a day to finish the task</h5>\n",
    "<h5>stopped early and got features of 54511 samples and saved them in 'sorel_data.npz' for future use</h5>"
   ]
  },
  {
   "cell_type": "code",
   "execution_count": 23,
   "metadata": {},
   "outputs": [],
   "source": [
    "npzfile = np.load(os.path.join(sorel_dir,'sorel_data.npz'),allow_pickle=True)\n",
    "data,y = npzfile['arr_0'],npzfile['arr_1']"
   ]
  },
  {
   "cell_type": "code",
   "execution_count": 24,
   "metadata": {
    "scrolled": true
   },
   "outputs": [
    {
     "data": {
      "text/plain": [
       "(54511, 13)"
      ]
     },
     "execution_count": 24,
     "metadata": {},
     "output_type": "execute_result"
    }
   ],
   "source": [
    "npzfile['arr_1'].shape"
   ]
  },
  {
   "cell_type": "code",
   "execution_count": 25,
   "metadata": {},
   "outputs": [],
   "source": [
    "data,y = npzfile['arr_0'],npzfile['arr_1']"
   ]
  },
  {
   "cell_type": "code",
   "execution_count": 36,
   "metadata": {
    "scrolled": true
   },
   "outputs": [
    {
     "data": {
      "image/png": "[encoded data removed]",
      "text/plain": [
       "<Figure size 432x288 with 1 Axes>"
      ]
     },
     "metadata": {
      "needs_background": "light"
     },
     "output_type": "display_data"
    }
   ],
   "source": [
    "data_labels = pd.DataFrame(data=y[:,-1], columns=[\"label\"])\n",
    "sns.countplot(x = 'label', data=data_labels);"
   ]
  },
  {
   "cell_type": "code",
   "execution_count": 17,
   "metadata": {},
   "outputs": [
    {
     "data": {
      "text/plain": [
       "(58466, 2381)"
      ]
     },
     "execution_count": 17,
     "metadata": {},
     "output_type": "execute_result"
    }
   ],
   "source": [
    "data.shape"
   ]
  }
 ],
 "metadata": {
  "kernelspec": {
   "display_name": "Python 3",
   "language": "python",
   "name": "python3"
  },
  "language_info": {
   "codemirror_mode": {
    "name": "ipython",
    "version": 3
   },
   "file_extension": ".py",
   "mimetype": "text/x-python",
   "name": "python",
   "nbconvert_exporter": "python",
   "pygments_lexer": "ipython3",
   "version": "3.6.10"
  }
 },
 "nbformat": 4,
 "nbformat_minor": 4
}
